{
  "nbformat": 4,
  "nbformat_minor": 0,
  "metadata": {
    "kernelspec": {
      "display_name": "tensorflow",
      "language": "python",
      "name": "tensorflow"
    },
    "language_info": {
      "codemirror_mode": {
        "name": "ipython",
        "version": 3
      },
      "file_extension": ".py",
      "mimetype": "text/x-python",
      "name": "python",
      "nbconvert_exporter": "python",
      "pygments_lexer": "ipython3",
      "version": "3.6.8"
    },
    "colab": {
      "name": "ex1-mlp-iris.ipynb",
      "provenance": [],
      "include_colab_link": true
    }
  },
  "cells": [
    {
      "cell_type": "markdown",
      "metadata": {
        "id": "view-in-github",
        "colab_type": "text"
      },
      "source": [
        "<a href=\"https://colab.research.google.com/github/fatemehghassemi/Deeplearning/blob/main/homework/ex1-mlp-iris.ipynb\" target=\"_parent\"><img src=\"https://colab.research.google.com/assets/colab-badge.svg\" alt=\"Open In Colab\"/></a>"
      ]
    },
    {
      "cell_type": "markdown",
      "metadata": {
        "id": "eyUAyE2gERt3"
      },
      "source": [
        "<center><div style=\"direction:rtl;font-family:B Lotus, B Nazanin, Tahoma\">به نام خدا</div></center>\n",
        "\n",
        "<h1><center><div style=\"direction:rtl;font-family:B Lotus, B Nazanin, Tahoma\">تمرین عملی 1: طبقه بندی با شبکه های تمام متصل روی مجموعه داده IRIS</div></center></h1>"
      ]
    },
    {
      "cell_type": "markdown",
      "metadata": {
        "id": "jZrAyCwTERt7"
      },
      "source": [
        "## <div style=\"direction:rtl;text-align:right;font-family:B Lotus, B Nazanin, Tahoma\">صورت مساله</div>\n",
        "\n",
        "\n",
        "<div style=\"direction:rtl;text-align:right;font-family:Tahoma\">\n",
        "در اولین جلسه کارگاه طبقه بندی با شبکه های تمام متصل را دیدیم.\n",
        "<br>\n",
        "توصیه می‌شود حتما نوت بوک‌های زیر را قبل از این تمرین مرور کنید:\n",
        "</div>\n",
        "\n",
        "[04_a Gentle Introduction to Keras - Simple neural network(mlp).ipynb](https://nbviewer.jupyter.org/github/alireza-akhavan/SRU-deeplearning-workshop/blob/master/04_a%20Gentle%20Introduction%20to%20Keras%20-%20Simple%20neural%20network%28mlp%29.ipynb)\n",
        "\n",
        "[05_Dropout.ipynb](https://nbviewer.jupyter.org/github/alireza-akhavan/SRU-deeplearning-workshop/blob/master/05_Dropout.ipynb)\n",
        "\n",
        "<div style=\"direction:rtl;text-align:right;font-family:Tahoma\">\n",
        "در این جلسه با داده های تصویری آشنا شدیم. اما در این تمرین برای اینکه بدانیم کاربرد این مباحث در مسائل غیر تصویری نیز هست  از مجموعه داده ی ساختار یافتهiris  شامل 4 ویژگی برای طول و عرض کاسبرگ و گلبرگ استفاده خواهیم کرد که بتوانیم بر اساس این ویژگی ها نوع گل را از 3 کلاس متفاوت تشخیص دهیم.\n",
        "</div>"
      ]
    },
    {
      "cell_type": "markdown",
      "metadata": {
        "id": "-2pdjelIERt9"
      },
      "source": [
        "## <div style=\"direction:rtl;text-align:right;font-family:B Lotus, B Nazanin, Tahoma\">لود کتابخانه های مورد نیاز </div>\n",
        "<div style=\"direction:rtl;text-align:right;font-family:Tahoma\">\n",
        "کتابخانه های مورد نیاز این تمرین لود شده اند\n",
        "<br>\n",
        "در صورت نیاز میتوانید کتابخانه های بیشتری لود کنید:\n",
        "</div>"
      ]
    },
    {
      "cell_type": "code",
      "metadata": {
        "id": "47MpB_jwERt-"
      },
      "source": [
        "import numpy as np\n",
        "from tensorflow import keras\n",
        "from sklearn.datasets import load_iris\n",
        "from sklearn.model_selection import train_test_split\n",
        "from keras.models import Sequential\n",
        "from keras.layers import Dense, Dropout\n",
        "from keras.optimizers import Adam"
      ],
      "execution_count": 1,
      "outputs": []
    },
    {
      "cell_type": "markdown",
      "metadata": {
        "id": "tYP_cacjERuB"
      },
      "source": [
        "<div style=\"direction:rtl;text-align:right;font-family:Tahoma\">\n",
        "در این تمرین میخواهیم از مجموعه داده iris استفاده کنیم.\n",
        "<br>\n",
        "توضیحات این مجموعه داده در سایت آن موجود است:\n",
        "</div>\n",
        "\n",
        "https://archive.ics.uci.edu/ml/datasets/iris\n",
        "\n",
        "\n",
        "<div style=\"direction:rtl;text-align:right;font-family:Tahoma\">\n",
        "ویژگی ها و کلاس های این مجموعه داده به شرح زیر است:\n",
        "</div>\n",
        "\n",
        "Attribute Information:\n",
        "\n",
        "1. sepal length in cm\n",
        "2. sepal width in cm\n",
        "3. petal length in cm\n",
        "4. petal width in cm\n",
        "\n",
        "class:\n",
        "\n",
        "    Iris Setosa\n",
        "    Iris Versicolour\n",
        "    Iris Virginica\n",
        "\n",
        "<div style=\"direction:rtl;text-align:right;font-family:Tahoma\">\n",
        "این دیتاست در کتابخانه sklearn موجود است\n",
        "<br>\n",
        "در قطعه کد زیر ویژگی ها را در x و برچسب یا labelهای متناظر را در y لود شده است.\n",
        "</div>"
      ]
    },
    {
      "cell_type": "code",
      "metadata": {
        "id": "-J6Amnw9ERuD"
      },
      "source": [
        "iris_data = load_iris() # load the iris dataset\n",
        "x = iris_data.data\n",
        "y = iris_data.target.reshape(-1, 1) # Convert data to a single column"
      ],
      "execution_count": 2,
      "outputs": []
    },
    {
      "cell_type": "markdown",
      "metadata": {
        "id": "DVRYPVnmERuD"
      },
      "source": [
        "# <div style=\"direction:rtl;text-align:right;font-family:B Lotus, B Nazanin, Tahoma\">سوال 1:</div>\n",
        "<div style=\"direction:rtl;text-align:right;font-family:Tahoma\">\n",
        "برچسب یا label های ما در حال حاضر عددی است.\n",
        "<br>\n",
        "این اعداد 0 تا 2 هستند و به عبارتی 3 حالت مختلف دارند.\n",
        "<br>\n",
        "این برچسب ها را به فرمت one-hot تبدیل کنید و خروجی را مجدد در y بریزید.\n",
        "\n",
        "<br>\n",
        "<b>راهنمایی: </b>\n",
        "از تابع keras.utils.to_categorical استفاده کنید.\n",
        "</div>"
      ]
    },
    {
      "cell_type": "code",
      "metadata": {
        "id": "ZdP03eI-ERuE"
      },
      "source": [
        "y = keras.utils.to_categorical(y, num_classes=3)"
      ],
      "execution_count": 3,
      "outputs": []
    },
    {
      "cell_type": "code",
      "metadata": {
        "colab": {
          "base_uri": "https://localhost:8080/"
        },
        "id": "lVpCwiD23eXh",
        "outputId": "9da94d1e-4088-4af1-d669-3819cd2a1cf8"
      },
      "source": [
        "y.shape"
      ],
      "execution_count": 4,
      "outputs": [
        {
          "output_type": "execute_result",
          "data": {
            "text/plain": [
              "(150, 3)"
            ]
          },
          "metadata": {
            "tags": []
          },
          "execution_count": 4
        }
      ]
    },
    {
      "cell_type": "markdown",
      "metadata": {
        "id": "JKG6f8s0ERuF"
      },
      "source": [
        "<div style=\"direction:rtl;text-align:right;font-family:Tahoma\">\n",
        "در زیر داده ها  به داده های test و train تقسیم شده است:\n",
        "</div>"
      ]
    },
    {
      "cell_type": "code",
      "metadata": {
        "id": "Z8rqnA6gERuG"
      },
      "source": [
        "# Split the data for training and testing\n",
        "train_x, test_x, train_y, test_y = train_test_split(x, y, test_size=0.20)"
      ],
      "execution_count": 5,
      "outputs": []
    },
    {
      "cell_type": "markdown",
      "metadata": {
        "id": "dHdpFC00ERuG"
      },
      "source": [
        "# <div style=\"direction:rtl;text-align:right;font-family:B Lotus, B Nazanin, Tahoma\">سوال 2:</div>\n",
        "<div style=\"direction:rtl;text-align:right;font-family:Tahoma\">\n",
        "یک شبکه با دو hidden-layer در هر لایه 10 نوران و تابع فعالیت relu بسازید. یک لایه Dropout با نرخ 0.5 در لایه آخر ماقبل softmax نیز اضافه کنید.\n",
        "</div>"
      ]
    },
    {
      "cell_type": "code",
      "metadata": {
        "id": "uLHqrg5CERuH"
      },
      "source": [
        "# Preprocess input data\n",
        "x_train=np.array(train_x)\n",
        "x_test=np.array(test_x)\n",
        "x_train = x_train.astype('float32')\n",
        "x_test = x_test.astype('float32')\n",
        "x_train /= 255\n",
        "x_test /= 255\n",
        "\n",
        "#Define model architecture\n",
        "model = Sequential()\n",
        "model.add(Dense(10, activation='relu', input_dim=4))\n",
        "model.add(Dense(10, activation='relu'))\n",
        "model.add(Dropout(0.5))\n",
        "model.add(Dense(3, activation='softmax'))\n"
      ],
      "execution_count": 6,
      "outputs": []
    },
    {
      "cell_type": "code",
      "metadata": {
        "colab": {
          "base_uri": "https://localhost:8080/"
        },
        "id": "WkeM9y8_ERuI",
        "outputId": "b9d50a93-9ca8-4c22-d782-8967e2787286"
      },
      "source": [
        "model.summary()"
      ],
      "execution_count": 7,
      "outputs": [
        {
          "output_type": "stream",
          "text": [
            "Model: \"sequential\"\n",
            "_________________________________________________________________\n",
            "Layer (type)                 Output Shape              Param #   \n",
            "=================================================================\n",
            "dense (Dense)                (None, 10)                50        \n",
            "_________________________________________________________________\n",
            "dense_1 (Dense)              (None, 10)                110       \n",
            "_________________________________________________________________\n",
            "dropout (Dropout)            (None, 10)                0         \n",
            "_________________________________________________________________\n",
            "dense_2 (Dense)              (None, 3)                 33        \n",
            "=================================================================\n",
            "Total params: 193\n",
            "Trainable params: 193\n",
            "Non-trainable params: 0\n",
            "_________________________________________________________________\n"
          ],
          "name": "stdout"
        }
      ]
    },
    {
      "cell_type": "markdown",
      "metadata": {
        "id": "gfvIE1wcERuJ"
      },
      "source": [
        "<div style=\"direction:rtl;text-align:right;font-family:Tahoma\">در زیر مدل کامپایل شده است.</div>"
      ]
    },
    {
      "cell_type": "code",
      "metadata": {
        "colab": {
          "base_uri": "https://localhost:8080/"
        },
        "id": "-0CT5emzERuK",
        "outputId": "7a036cfa-5f92-446a-f62c-1a57b293c1ff"
      },
      "source": [
        "# Adam optimizer with learning rate of 0.001\n",
        "optimizer = Adam(lr=0.001)\n",
        "model.compile(optimizer, loss='categorical_crossentropy', metrics=['accuracy'])"
      ],
      "execution_count": 8,
      "outputs": [
        {
          "output_type": "stream",
          "text": [
            "/usr/local/lib/python3.7/dist-packages/tensorflow/python/keras/optimizer_v2/optimizer_v2.py:375: UserWarning: The `lr` argument is deprecated, use `learning_rate` instead.\n",
            "  \"The `lr` argument is deprecated, use `learning_rate` instead.\")\n"
          ],
          "name": "stderr"
        }
      ]
    },
    {
      "cell_type": "markdown",
      "metadata": {
        "id": "vSpCMlU8ERuK"
      },
      "source": [
        "# <div style=\"direction:rtl;text-align:right;font-family:B Lotus, B Nazanin, Tahoma\">سوال 3:</div>\n",
        "<div style=\"direction:rtl;text-align:right;font-family:Tahoma\">\n",
        "مدل را با  batch_size=5 و تعداد 200 ایپاک آموزش دهید.\n",
        "<br>\n",
        "<b>راهنمایی: </b>\n",
        "از تابع model.fit استفاده کنید.\n",
        "</div>"
      ]
    },
    {
      "cell_type": "code",
      "metadata": {
        "colab": {
          "base_uri": "https://localhost:8080/"
        },
        "id": "ANbxnif-ERuL",
        "outputId": "a343a345-24da-489e-a045-661593b37afc"
      },
      "source": [
        "# Train the model\n",
        "model.fit(x_train, train_y,\n",
        "          epochs=200,\n",
        "          batch_size=5)"
      ],
      "execution_count": 9,
      "outputs": [
        {
          "output_type": "stream",
          "text": [
            "Epoch 1/200\n",
            "24/24 [==============================] - 14s 2ms/step - loss: 1.0985 - accuracy: 0.3352\n",
            "Epoch 2/200\n",
            "24/24 [==============================] - 0s 1ms/step - loss: 1.0989 - accuracy: 0.3596\n",
            "Epoch 3/200\n",
            "24/24 [==============================] - 0s 2ms/step - loss: 1.0998 - accuracy: 0.2641\n",
            "Epoch 4/200\n",
            "24/24 [==============================] - 0s 1ms/step - loss: 1.0968 - accuracy: 0.4515\n",
            "Epoch 5/200\n",
            "24/24 [==============================] - 0s 1ms/step - loss: 1.0973 - accuracy: 0.3892\n",
            "Epoch 6/200\n",
            "24/24 [==============================] - 0s 1ms/step - loss: 1.0942 - accuracy: 0.4289\n",
            "Epoch 7/200\n",
            "24/24 [==============================] - 0s 1ms/step - loss: 1.0979 - accuracy: 0.2541\n",
            "Epoch 8/200\n",
            "24/24 [==============================] - 0s 1ms/step - loss: 1.0977 - accuracy: 0.4083\n",
            "Epoch 9/200\n",
            "24/24 [==============================] - 0s 1ms/step - loss: 1.0959 - accuracy: 0.4223\n",
            "Epoch 10/200\n",
            "24/24 [==============================] - 0s 1ms/step - loss: 1.0962 - accuracy: 0.3798\n",
            "Epoch 11/200\n",
            "24/24 [==============================] - 0s 1ms/step - loss: 1.0946 - accuracy: 0.4208\n",
            "Epoch 12/200\n",
            "24/24 [==============================] - 0s 2ms/step - loss: 1.0926 - accuracy: 0.4791\n",
            "Epoch 13/200\n",
            "24/24 [==============================] - 0s 1ms/step - loss: 1.0922 - accuracy: 0.4636\n",
            "Epoch 14/200\n",
            "24/24 [==============================] - 0s 1ms/step - loss: 1.0911 - accuracy: 0.4287\n",
            "Epoch 15/200\n",
            "24/24 [==============================] - 0s 1ms/step - loss: 1.0871 - accuracy: 0.4863\n",
            "Epoch 16/200\n",
            "24/24 [==============================] - 0s 1ms/step - loss: 1.0988 - accuracy: 0.3189\n",
            "Epoch 17/200\n",
            "24/24 [==============================] - 0s 1ms/step - loss: 1.0904 - accuracy: 0.4145\n",
            "Epoch 18/200\n",
            "24/24 [==============================] - 0s 2ms/step - loss: 1.0935 - accuracy: 0.4446\n",
            "Epoch 19/200\n",
            "24/24 [==============================] - 0s 1ms/step - loss: 1.0908 - accuracy: 0.4870\n",
            "Epoch 20/200\n",
            "24/24 [==============================] - 0s 1ms/step - loss: 1.0861 - accuracy: 0.5079\n",
            "Epoch 21/200\n",
            "24/24 [==============================] - 0s 1ms/step - loss: 1.0935 - accuracy: 0.3542\n",
            "Epoch 22/200\n",
            "24/24 [==============================] - 0s 1ms/step - loss: 1.0854 - accuracy: 0.4742\n",
            "Epoch 23/200\n",
            "24/24 [==============================] - 0s 1ms/step - loss: 1.0902 - accuracy: 0.3547\n",
            "Epoch 24/200\n",
            "24/24 [==============================] - 0s 2ms/step - loss: 1.0896 - accuracy: 0.3044\n",
            "Epoch 25/200\n",
            "24/24 [==============================] - 0s 1ms/step - loss: 1.0888 - accuracy: 0.3847\n",
            "Epoch 26/200\n",
            "24/24 [==============================] - 0s 1ms/step - loss: 1.0837 - accuracy: 0.4483\n",
            "Epoch 27/200\n",
            "24/24 [==============================] - 0s 2ms/step - loss: 1.0750 - accuracy: 0.5312\n",
            "Epoch 28/200\n",
            "24/24 [==============================] - 0s 1ms/step - loss: 1.0889 - accuracy: 0.4391\n",
            "Epoch 29/200\n",
            "24/24 [==============================] - 0s 2ms/step - loss: 1.0907 - accuracy: 0.3927\n",
            "Epoch 30/200\n",
            "24/24 [==============================] - 0s 1ms/step - loss: 1.0779 - accuracy: 0.5415\n",
            "Epoch 31/200\n",
            "24/24 [==============================] - 0s 1ms/step - loss: 1.0815 - accuracy: 0.4782\n",
            "Epoch 32/200\n",
            "24/24 [==============================] - 0s 1ms/step - loss: 1.0763 - accuracy: 0.5156\n",
            "Epoch 33/200\n",
            "24/24 [==============================] - 0s 1ms/step - loss: 1.0716 - accuracy: 0.5484\n",
            "Epoch 34/200\n",
            "24/24 [==============================] - 0s 1ms/step - loss: 1.0771 - accuracy: 0.5486\n",
            "Epoch 35/200\n",
            "24/24 [==============================] - 0s 2ms/step - loss: 1.0821 - accuracy: 0.4106\n",
            "Epoch 36/200\n",
            "24/24 [==============================] - 0s 1ms/step - loss: 1.0729 - accuracy: 0.4741\n",
            "Epoch 37/200\n",
            "24/24 [==============================] - 0s 2ms/step - loss: 1.0640 - accuracy: 0.6161\n",
            "Epoch 38/200\n",
            "24/24 [==============================] - 0s 2ms/step - loss: 1.0558 - accuracy: 0.6824\n",
            "Epoch 39/200\n",
            "24/24 [==============================] - 0s 2ms/step - loss: 1.0698 - accuracy: 0.4169\n",
            "Epoch 40/200\n",
            "24/24 [==============================] - 0s 2ms/step - loss: 1.0629 - accuracy: 0.5614\n",
            "Epoch 41/200\n",
            "24/24 [==============================] - 0s 1ms/step - loss: 1.0658 - accuracy: 0.5208\n",
            "Epoch 42/200\n",
            "24/24 [==============================] - 0s 2ms/step - loss: 1.0508 - accuracy: 0.5371\n",
            "Epoch 43/200\n",
            "24/24 [==============================] - 0s 2ms/step - loss: 1.0389 - accuracy: 0.5853\n",
            "Epoch 44/200\n",
            "24/24 [==============================] - 0s 1ms/step - loss: 1.0377 - accuracy: 0.6614\n",
            "Epoch 45/200\n",
            "24/24 [==============================] - 0s 1ms/step - loss: 1.0255 - accuracy: 0.6800\n",
            "Epoch 46/200\n",
            "24/24 [==============================] - 0s 2ms/step - loss: 1.0304 - accuracy: 0.5407\n",
            "Epoch 47/200\n",
            "24/24 [==============================] - 0s 2ms/step - loss: 1.0183 - accuracy: 0.6345\n",
            "Epoch 48/200\n",
            "24/24 [==============================] - 0s 2ms/step - loss: 1.0311 - accuracy: 0.6855\n",
            "Epoch 49/200\n",
            "24/24 [==============================] - 0s 2ms/step - loss: 1.0252 - accuracy: 0.6304\n",
            "Epoch 50/200\n",
            "24/24 [==============================] - 0s 2ms/step - loss: 0.9979 - accuracy: 0.6603\n",
            "Epoch 51/200\n",
            "24/24 [==============================] - 0s 2ms/step - loss: 0.9964 - accuracy: 0.6415\n",
            "Epoch 52/200\n",
            "24/24 [==============================] - 0s 1ms/step - loss: 1.0147 - accuracy: 0.6092\n",
            "Epoch 53/200\n",
            "24/24 [==============================] - 0s 2ms/step - loss: 1.0014 - accuracy: 0.5854\n",
            "Epoch 54/200\n",
            "24/24 [==============================] - 0s 1ms/step - loss: 0.9920 - accuracy: 0.6221\n",
            "Epoch 55/200\n",
            "24/24 [==============================] - 0s 1ms/step - loss: 0.9977 - accuracy: 0.6150\n",
            "Epoch 56/200\n",
            "24/24 [==============================] - 0s 1ms/step - loss: 0.9879 - accuracy: 0.6638\n",
            "Epoch 57/200\n",
            "24/24 [==============================] - 0s 1ms/step - loss: 0.9631 - accuracy: 0.6966\n",
            "Epoch 58/200\n",
            "24/24 [==============================] - 0s 1ms/step - loss: 0.9681 - accuracy: 0.6536\n",
            "Epoch 59/200\n",
            "24/24 [==============================] - 0s 2ms/step - loss: 0.9409 - accuracy: 0.6414\n",
            "Epoch 60/200\n",
            "24/24 [==============================] - 0s 1ms/step - loss: 0.9356 - accuracy: 0.6787\n",
            "Epoch 61/200\n",
            "24/24 [==============================] - 0s 1ms/step - loss: 0.9496 - accuracy: 0.6874\n",
            "Epoch 62/200\n",
            "24/24 [==============================] - 0s 2ms/step - loss: 0.9423 - accuracy: 0.6769\n",
            "Epoch 63/200\n",
            "24/24 [==============================] - 0s 1ms/step - loss: 0.9249 - accuracy: 0.6033\n",
            "Epoch 64/200\n",
            "24/24 [==============================] - 0s 1ms/step - loss: 0.9293 - accuracy: 0.6718\n",
            "Epoch 65/200\n",
            "24/24 [==============================] - 0s 1ms/step - loss: 0.9334 - accuracy: 0.6268\n",
            "Epoch 66/200\n",
            "24/24 [==============================] - 0s 1ms/step - loss: 0.8556 - accuracy: 0.7804\n",
            "Epoch 67/200\n",
            "24/24 [==============================] - 0s 1ms/step - loss: 0.9029 - accuracy: 0.6965\n",
            "Epoch 68/200\n",
            "24/24 [==============================] - 0s 1ms/step - loss: 0.9395 - accuracy: 0.5971\n",
            "Epoch 69/200\n",
            "24/24 [==============================] - 0s 1ms/step - loss: 0.8646 - accuracy: 0.7043\n",
            "Epoch 70/200\n",
            "24/24 [==============================] - 0s 1ms/step - loss: 0.8715 - accuracy: 0.6852\n",
            "Epoch 71/200\n",
            "24/24 [==============================] - 0s 1ms/step - loss: 0.8867 - accuracy: 0.6411\n",
            "Epoch 72/200\n",
            "24/24 [==============================] - 0s 2ms/step - loss: 0.8488 - accuracy: 0.7058\n",
            "Epoch 73/200\n",
            "24/24 [==============================] - 0s 1ms/step - loss: 0.8449 - accuracy: 0.6404\n",
            "Epoch 74/200\n",
            "24/24 [==============================] - 0s 2ms/step - loss: 0.8401 - accuracy: 0.7296\n",
            "Epoch 75/200\n",
            "24/24 [==============================] - 0s 2ms/step - loss: 0.8507 - accuracy: 0.6516\n",
            "Epoch 76/200\n",
            "24/24 [==============================] - 0s 2ms/step - loss: 0.8408 - accuracy: 0.6538\n",
            "Epoch 77/200\n",
            "24/24 [==============================] - 0s 1ms/step - loss: 0.8230 - accuracy: 0.6711\n",
            "Epoch 78/200\n",
            "24/24 [==============================] - 0s 2ms/step - loss: 0.8573 - accuracy: 0.5213\n",
            "Epoch 79/200\n",
            "24/24 [==============================] - 0s 1ms/step - loss: 0.8127 - accuracy: 0.6938\n",
            "Epoch 80/200\n",
            "24/24 [==============================] - 0s 1ms/step - loss: 0.7969 - accuracy: 0.7753\n",
            "Epoch 81/200\n",
            "24/24 [==============================] - 0s 2ms/step - loss: 0.8279 - accuracy: 0.6491\n",
            "Epoch 82/200\n",
            "24/24 [==============================] - 0s 1ms/step - loss: 0.7897 - accuracy: 0.7171\n",
            "Epoch 83/200\n",
            "24/24 [==============================] - 0s 1ms/step - loss: 0.7726 - accuracy: 0.6630\n",
            "Epoch 84/200\n",
            "24/24 [==============================] - 0s 1ms/step - loss: 0.8021 - accuracy: 0.6200\n",
            "Epoch 85/200\n",
            "24/24 [==============================] - 0s 1ms/step - loss: 0.7820 - accuracy: 0.7049\n",
            "Epoch 86/200\n",
            "24/24 [==============================] - 0s 1ms/step - loss: 0.8151 - accuracy: 0.7161\n",
            "Epoch 87/200\n",
            "24/24 [==============================] - 0s 1ms/step - loss: 0.7700 - accuracy: 0.7059\n",
            "Epoch 88/200\n",
            "24/24 [==============================] - 0s 1ms/step - loss: 0.7680 - accuracy: 0.6880\n",
            "Epoch 89/200\n",
            "24/24 [==============================] - 0s 2ms/step - loss: 0.7839 - accuracy: 0.7120\n",
            "Epoch 90/200\n",
            "24/24 [==============================] - 0s 1ms/step - loss: 0.7793 - accuracy: 0.6892\n",
            "Epoch 91/200\n",
            "24/24 [==============================] - 0s 1ms/step - loss: 0.8088 - accuracy: 0.5949\n",
            "Epoch 92/200\n",
            "24/24 [==============================] - 0s 1ms/step - loss: 0.7300 - accuracy: 0.7283\n",
            "Epoch 93/200\n",
            "24/24 [==============================] - 0s 2ms/step - loss: 0.7425 - accuracy: 0.6721\n",
            "Epoch 94/200\n",
            "24/24 [==============================] - 0s 1ms/step - loss: 0.7510 - accuracy: 0.6630\n",
            "Epoch 95/200\n",
            "24/24 [==============================] - 0s 2ms/step - loss: 0.6911 - accuracy: 0.7667\n",
            "Epoch 96/200\n",
            "24/24 [==============================] - 0s 1ms/step - loss: 0.7241 - accuracy: 0.7410\n",
            "Epoch 97/200\n",
            "24/24 [==============================] - 0s 2ms/step - loss: 0.7528 - accuracy: 0.7493\n",
            "Epoch 98/200\n",
            "24/24 [==============================] - 0s 2ms/step - loss: 0.7626 - accuracy: 0.7137\n",
            "Epoch 99/200\n",
            "24/24 [==============================] - 0s 2ms/step - loss: 0.7174 - accuracy: 0.7371\n",
            "Epoch 100/200\n",
            "24/24 [==============================] - 0s 2ms/step - loss: 0.7271 - accuracy: 0.7215\n",
            "Epoch 101/200\n",
            "24/24 [==============================] - 0s 1ms/step - loss: 0.7068 - accuracy: 0.7055\n",
            "Epoch 102/200\n",
            "24/24 [==============================] - 0s 2ms/step - loss: 0.7121 - accuracy: 0.6585\n",
            "Epoch 103/200\n",
            "24/24 [==============================] - 0s 1ms/step - loss: 0.7691 - accuracy: 0.6360\n",
            "Epoch 104/200\n",
            "24/24 [==============================] - 0s 1ms/step - loss: 0.7282 - accuracy: 0.6536\n",
            "Epoch 105/200\n",
            "24/24 [==============================] - 0s 2ms/step - loss: 0.6616 - accuracy: 0.7645\n",
            "Epoch 106/200\n",
            "24/24 [==============================] - 0s 1ms/step - loss: 0.6250 - accuracy: 0.8259\n",
            "Epoch 107/200\n",
            "24/24 [==============================] - 0s 1ms/step - loss: 0.7234 - accuracy: 0.6493\n",
            "Epoch 108/200\n",
            "24/24 [==============================] - 0s 2ms/step - loss: 0.6602 - accuracy: 0.7621\n",
            "Epoch 109/200\n",
            "24/24 [==============================] - 0s 1ms/step - loss: 0.6714 - accuracy: 0.7636\n",
            "Epoch 110/200\n",
            "24/24 [==============================] - 0s 2ms/step - loss: 0.6538 - accuracy: 0.6968\n",
            "Epoch 111/200\n",
            "24/24 [==============================] - 0s 2ms/step - loss: 0.7086 - accuracy: 0.7303\n",
            "Epoch 112/200\n",
            "24/24 [==============================] - 0s 2ms/step - loss: 0.6872 - accuracy: 0.6911\n",
            "Epoch 113/200\n",
            "24/24 [==============================] - 0s 1ms/step - loss: 0.6207 - accuracy: 0.7468\n",
            "Epoch 114/200\n",
            "24/24 [==============================] - 0s 1ms/step - loss: 0.6919 - accuracy: 0.7551\n",
            "Epoch 115/200\n",
            "24/24 [==============================] - 0s 1ms/step - loss: 0.6192 - accuracy: 0.7982\n",
            "Epoch 116/200\n",
            "24/24 [==============================] - 0s 1ms/step - loss: 0.7306 - accuracy: 0.6900\n",
            "Epoch 117/200\n",
            "24/24 [==============================] - 0s 1ms/step - loss: 0.6992 - accuracy: 0.6959\n",
            "Epoch 118/200\n",
            "24/24 [==============================] - 0s 2ms/step - loss: 0.7044 - accuracy: 0.6879\n",
            "Epoch 119/200\n",
            "24/24 [==============================] - 0s 1ms/step - loss: 0.5986 - accuracy: 0.7684\n",
            "Epoch 120/200\n",
            "24/24 [==============================] - 0s 2ms/step - loss: 0.6673 - accuracy: 0.7660\n",
            "Epoch 121/200\n",
            "24/24 [==============================] - 0s 2ms/step - loss: 0.6870 - accuracy: 0.7405\n",
            "Epoch 122/200\n",
            "24/24 [==============================] - 0s 2ms/step - loss: 0.6263 - accuracy: 0.7975\n",
            "Epoch 123/200\n",
            "24/24 [==============================] - 0s 1ms/step - loss: 0.7038 - accuracy: 0.6355\n",
            "Epoch 124/200\n",
            "24/24 [==============================] - 0s 1ms/step - loss: 0.6865 - accuracy: 0.6870\n",
            "Epoch 125/200\n",
            "24/24 [==============================] - 0s 1ms/step - loss: 0.6756 - accuracy: 0.8046\n",
            "Epoch 126/200\n",
            "24/24 [==============================] - 0s 1ms/step - loss: 0.6432 - accuracy: 0.7490\n",
            "Epoch 127/200\n",
            "24/24 [==============================] - 0s 1ms/step - loss: 0.5953 - accuracy: 0.7755\n",
            "Epoch 128/200\n",
            "24/24 [==============================] - 0s 2ms/step - loss: 0.5387 - accuracy: 0.8019\n",
            "Epoch 129/200\n",
            "24/24 [==============================] - 0s 1ms/step - loss: 0.5959 - accuracy: 0.6845\n",
            "Epoch 130/200\n",
            "24/24 [==============================] - 0s 1ms/step - loss: 0.6332 - accuracy: 0.7296\n",
            "Epoch 131/200\n",
            "24/24 [==============================] - 0s 1ms/step - loss: 0.6139 - accuracy: 0.7329\n",
            "Epoch 132/200\n",
            "24/24 [==============================] - 0s 1ms/step - loss: 0.6239 - accuracy: 0.7378\n",
            "Epoch 133/200\n",
            "24/24 [==============================] - 0s 2ms/step - loss: 0.7467 - accuracy: 0.6744\n",
            "Epoch 134/200\n",
            "24/24 [==============================] - 0s 1ms/step - loss: 0.5648 - accuracy: 0.7337\n",
            "Epoch 135/200\n",
            "24/24 [==============================] - 0s 2ms/step - loss: 0.6089 - accuracy: 0.7435\n",
            "Epoch 136/200\n",
            "24/24 [==============================] - 0s 2ms/step - loss: 0.6286 - accuracy: 0.7280\n",
            "Epoch 137/200\n",
            "24/24 [==============================] - 0s 1ms/step - loss: 0.6504 - accuracy: 0.7284\n",
            "Epoch 138/200\n",
            "24/24 [==============================] - 0s 2ms/step - loss: 0.6314 - accuracy: 0.7314\n",
            "Epoch 139/200\n",
            "24/24 [==============================] - 0s 1ms/step - loss: 0.6214 - accuracy: 0.6982\n",
            "Epoch 140/200\n",
            "24/24 [==============================] - 0s 2ms/step - loss: 0.5857 - accuracy: 0.7797\n",
            "Epoch 141/200\n",
            "24/24 [==============================] - 0s 1ms/step - loss: 0.5687 - accuracy: 0.8051\n",
            "Epoch 142/200\n",
            "24/24 [==============================] - 0s 2ms/step - loss: 0.6212 - accuracy: 0.7396\n",
            "Epoch 143/200\n",
            "24/24 [==============================] - 0s 1ms/step - loss: 0.6050 - accuracy: 0.7797\n",
            "Epoch 144/200\n",
            "24/24 [==============================] - 0s 1ms/step - loss: 0.5446 - accuracy: 0.8061\n",
            "Epoch 145/200\n",
            "24/24 [==============================] - 0s 2ms/step - loss: 0.5802 - accuracy: 0.7618\n",
            "Epoch 146/200\n",
            "24/24 [==============================] - 0s 1ms/step - loss: 0.6155 - accuracy: 0.7780\n",
            "Epoch 147/200\n",
            "24/24 [==============================] - 0s 1ms/step - loss: 0.5688 - accuracy: 0.8357\n",
            "Epoch 148/200\n",
            "24/24 [==============================] - 0s 1ms/step - loss: 0.6220 - accuracy: 0.7281\n",
            "Epoch 149/200\n",
            "24/24 [==============================] - 0s 2ms/step - loss: 0.5526 - accuracy: 0.7882\n",
            "Epoch 150/200\n",
            "24/24 [==============================] - 0s 1ms/step - loss: 0.6569 - accuracy: 0.6639\n",
            "Epoch 151/200\n",
            "24/24 [==============================] - 0s 1ms/step - loss: 0.5501 - accuracy: 0.7775\n",
            "Epoch 152/200\n",
            "24/24 [==============================] - 0s 1ms/step - loss: 0.6314 - accuracy: 0.7182\n",
            "Epoch 153/200\n",
            "24/24 [==============================] - 0s 2ms/step - loss: 0.6377 - accuracy: 0.7838\n",
            "Epoch 154/200\n",
            "24/24 [==============================] - 0s 2ms/step - loss: 0.5761 - accuracy: 0.7943\n",
            "Epoch 155/200\n",
            "24/24 [==============================] - 0s 1ms/step - loss: 0.5553 - accuracy: 0.7505\n",
            "Epoch 156/200\n",
            "24/24 [==============================] - 0s 1ms/step - loss: 0.6236 - accuracy: 0.7661\n",
            "Epoch 157/200\n",
            "24/24 [==============================] - 0s 2ms/step - loss: 0.5522 - accuracy: 0.8306\n",
            "Epoch 158/200\n",
            "24/24 [==============================] - 0s 1ms/step - loss: 0.5016 - accuracy: 0.8213\n",
            "Epoch 159/200\n",
            "24/24 [==============================] - 0s 1ms/step - loss: 0.5432 - accuracy: 0.8367\n",
            "Epoch 160/200\n",
            "24/24 [==============================] - 0s 1ms/step - loss: 0.6120 - accuracy: 0.7381\n",
            "Epoch 161/200\n",
            "24/24 [==============================] - 0s 2ms/step - loss: 0.5233 - accuracy: 0.7862\n",
            "Epoch 162/200\n",
            "24/24 [==============================] - 0s 2ms/step - loss: 0.5018 - accuracy: 0.8366\n",
            "Epoch 163/200\n",
            "24/24 [==============================] - 0s 1ms/step - loss: 0.5282 - accuracy: 0.8004\n",
            "Epoch 164/200\n",
            "24/24 [==============================] - 0s 1ms/step - loss: 0.5683 - accuracy: 0.7981\n",
            "Epoch 165/200\n",
            "24/24 [==============================] - 0s 1ms/step - loss: 0.5397 - accuracy: 0.7761\n",
            "Epoch 166/200\n",
            "24/24 [==============================] - 0s 2ms/step - loss: 0.5694 - accuracy: 0.7492\n",
            "Epoch 167/200\n",
            "24/24 [==============================] - 0s 1ms/step - loss: 0.5338 - accuracy: 0.8646\n",
            "Epoch 168/200\n",
            "24/24 [==============================] - 0s 2ms/step - loss: 0.5493 - accuracy: 0.7751\n",
            "Epoch 169/200\n",
            "24/24 [==============================] - 0s 1ms/step - loss: 0.6392 - accuracy: 0.7208\n",
            "Epoch 170/200\n",
            "24/24 [==============================] - 0s 2ms/step - loss: 0.5443 - accuracy: 0.8918\n",
            "Epoch 171/200\n",
            "24/24 [==============================] - 0s 2ms/step - loss: 0.5588 - accuracy: 0.7686\n",
            "Epoch 172/200\n",
            "24/24 [==============================] - 0s 2ms/step - loss: 0.5746 - accuracy: 0.7942\n",
            "Epoch 173/200\n",
            "24/24 [==============================] - 0s 2ms/step - loss: 0.5363 - accuracy: 0.7536\n",
            "Epoch 174/200\n",
            "24/24 [==============================] - 0s 1ms/step - loss: 0.5665 - accuracy: 0.7530\n",
            "Epoch 175/200\n",
            "24/24 [==============================] - 0s 1ms/step - loss: 0.5329 - accuracy: 0.8430\n",
            "Epoch 176/200\n",
            "24/24 [==============================] - 0s 1ms/step - loss: 0.5766 - accuracy: 0.8188\n",
            "Epoch 177/200\n",
            "24/24 [==============================] - 0s 2ms/step - loss: 0.4904 - accuracy: 0.8501\n",
            "Epoch 178/200\n",
            "24/24 [==============================] - 0s 2ms/step - loss: 0.4602 - accuracy: 0.8850\n",
            "Epoch 179/200\n",
            "24/24 [==============================] - 0s 2ms/step - loss: 0.4991 - accuracy: 0.8043\n",
            "Epoch 180/200\n",
            "24/24 [==============================] - 0s 1ms/step - loss: 0.5191 - accuracy: 0.7930\n",
            "Epoch 181/200\n",
            "24/24 [==============================] - 0s 2ms/step - loss: 0.5117 - accuracy: 0.8039\n",
            "Epoch 182/200\n",
            "24/24 [==============================] - 0s 1ms/step - loss: 0.6256 - accuracy: 0.7398\n",
            "Epoch 183/200\n",
            "24/24 [==============================] - 0s 1ms/step - loss: 0.5472 - accuracy: 0.7864\n",
            "Epoch 184/200\n",
            "24/24 [==============================] - 0s 1ms/step - loss: 0.4912 - accuracy: 0.7691\n",
            "Epoch 185/200\n",
            "24/24 [==============================] - 0s 2ms/step - loss: 0.5230 - accuracy: 0.7623\n",
            "Epoch 186/200\n",
            "24/24 [==============================] - 0s 2ms/step - loss: 0.5404 - accuracy: 0.7665\n",
            "Epoch 187/200\n",
            "24/24 [==============================] - 0s 2ms/step - loss: 0.5803 - accuracy: 0.7193\n",
            "Epoch 188/200\n",
            "24/24 [==============================] - 0s 2ms/step - loss: 0.5064 - accuracy: 0.7466\n",
            "Epoch 189/200\n",
            "24/24 [==============================] - 0s 1ms/step - loss: 0.5669 - accuracy: 0.7507\n",
            "Epoch 190/200\n",
            "24/24 [==============================] - 0s 2ms/step - loss: 0.5177 - accuracy: 0.7922\n",
            "Epoch 191/200\n",
            "24/24 [==============================] - 0s 1ms/step - loss: 0.4592 - accuracy: 0.8520\n",
            "Epoch 192/200\n",
            "24/24 [==============================] - 0s 2ms/step - loss: 0.5601 - accuracy: 0.8132\n",
            "Epoch 193/200\n",
            "24/24 [==============================] - 0s 1ms/step - loss: 0.4882 - accuracy: 0.8738\n",
            "Epoch 194/200\n",
            "24/24 [==============================] - 0s 2ms/step - loss: 0.4991 - accuracy: 0.8255\n",
            "Epoch 195/200\n",
            "24/24 [==============================] - 0s 2ms/step - loss: 0.4772 - accuracy: 0.8539\n",
            "Epoch 196/200\n",
            "24/24 [==============================] - 0s 1ms/step - loss: 0.4821 - accuracy: 0.8784\n",
            "Epoch 197/200\n",
            "24/24 [==============================] - 0s 2ms/step - loss: 0.5145 - accuracy: 0.7778\n",
            "Epoch 198/200\n",
            "24/24 [==============================] - 0s 2ms/step - loss: 0.5119 - accuracy: 0.8051\n",
            "Epoch 199/200\n",
            "24/24 [==============================] - 0s 2ms/step - loss: 0.5168 - accuracy: 0.7999\n",
            "Epoch 200/200\n",
            "24/24 [==============================] - 0s 2ms/step - loss: 0.4828 - accuracy: 0.7808\n"
          ],
          "name": "stdout"
        },
        {
          "output_type": "execute_result",
          "data": {
            "text/plain": [
              "<keras.callbacks.History at 0x7fd6b8857890>"
            ]
          },
          "metadata": {
            "tags": []
          },
          "execution_count": 9
        }
      ]
    },
    {
      "cell_type": "markdown",
      "metadata": {
        "id": "ilTziM9UERuM"
      },
      "source": [
        "# <div style=\"direction:rtl;text-align:right;font-family:B Lotus, B Nazanin, Tahoma\">سوال 4:</div>\n",
        "<div style=\"direction:rtl;text-align:right;font-family:Tahoma\">\n",
        "مدل را روی داده های test ارزیابی کنید.\n",
        "<br>\n",
        "<b>راهنمایی: </b>\n",
        "از تابع model.evaluate استفاده کنید.\n",
        "</div>"
      ]
    },
    {
      "cell_type": "code",
      "metadata": {
        "colab": {
          "base_uri": "https://localhost:8080/"
        },
        "id": "T-ASdbBbERuM",
        "outputId": "0018894b-1b16-458a-e70e-f1535deb8727"
      },
      "source": [
        "\n",
        "# Test on unseen data\n",
        "results = model.evaluate(x_test, test_y)\n",
        "\n",
        "print('Final test set loss: {:4f}'.format(results[0]))\n",
        "print('Final test set accuracy: {:4f}'.format(results[1]))"
      ],
      "execution_count": 10,
      "outputs": [
        {
          "output_type": "stream",
          "text": [
            "1/1 [==============================] - 0s 478ms/step - loss: 0.3813 - accuracy: 0.9667\n",
            "Final test set loss: 0.381306\n",
            "Final test set accuracy: 0.966667\n"
          ],
          "name": "stdout"
        }
      ]
    },
    {
      "cell_type": "markdown",
      "metadata": {
        "id": "IVM-fakiERuN"
      },
      "source": [
        "<div class=\"alert alert-block alert-info\">\n",
        "<div style=\"direction:rtl;text-align:right;font-family:B Lotus, B Nazanin, Tahoma\"> دوره مقدماتی یادگیری عمیق<br>علیرضا اخوان پور<br>پنج شنبه، ۱۸ و ۲۵ بهمن ۱۳۹۷<br>\n",
        "</div>\n",
        "<a href=\"http://class.vision\">Class.Vision</a> - <a href=\"http://AkhavanPour.ir\">AkhavanPour.ir</a> - <a href=\"https://github.com/Alireza-Akhavan/\">GitHub</a>\n",
        "\n",
        "</div>"
      ]
    }
  ]
}