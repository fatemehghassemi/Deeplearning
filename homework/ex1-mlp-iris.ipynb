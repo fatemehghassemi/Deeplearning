{
  "nbformat": 4,
  "nbformat_minor": 0,
  "metadata": {
    "kernelspec": {
      "display_name": "tensorflow",
      "language": "python",
      "name": "tensorflow"
    },
    "language_info": {
      "codemirror_mode": {
        "name": "ipython",
        "version": 3
      },
      "file_extension": ".py",
      "mimetype": "text/x-python",
      "name": "python",
      "nbconvert_exporter": "python",
      "pygments_lexer": "ipython3",
      "version": "3.6.8"
    },
    "colab": {
      "name": "ex1-mlp-iris.ipynb",
      "provenance": []
    }
  },
  "cells": [
    {
      "cell_type": "markdown",
      "metadata": {
        "id": "eyUAyE2gERt3"
      },
      "source": [
        "<center><div style=\"direction:rtl;font-family:B Lotus, B Nazanin, Tahoma\">به نام خدا</div></center>\n",
        "\n",
        "<h1><center><div style=\"direction:rtl;font-family:B Lotus, B Nazanin, Tahoma\">تمرین عملی 1: طبقه بندی با شبکه های تمام متصل روی مجموعه داده IRIS</div></center></h1>"
      ]
    },
    {
      "cell_type": "markdown",
      "metadata": {
        "id": "jZrAyCwTERt7"
      },
      "source": [
        "## <div style=\"direction:rtl;text-align:right;font-family:B Lotus, B Nazanin, Tahoma\">صورت مساله</div>\n",
        "\n",
        "\n",
        "<div style=\"direction:rtl;text-align:right;font-family:Tahoma\">\n",
        "در اولین جلسه کارگاه طبقه بندی با شبکه های تمام متصل را دیدیم.\n",
        "<br>\n",
        "توصیه می‌شود حتما نوت بوک‌های زیر را قبل از این تمرین مرور کنید:\n",
        "</div>\n",
        "\n",
        "[04_a Gentle Introduction to Keras - Simple neural network(mlp).ipynb](https://nbviewer.jupyter.org/github/alireza-akhavan/SRU-deeplearning-workshop/blob/master/04_a%20Gentle%20Introduction%20to%20Keras%20-%20Simple%20neural%20network%28mlp%29.ipynb)\n",
        "\n",
        "[05_Dropout.ipynb](https://nbviewer.jupyter.org/github/alireza-akhavan/SRU-deeplearning-workshop/blob/master/05_Dropout.ipynb)\n",
        "\n",
        "<div style=\"direction:rtl;text-align:right;font-family:Tahoma\">\n",
        "در این جلسه با داده های تصویری آشنا شدیم. اما در این تمرین برای اینکه بدانیم کاربرد این مباحث در مسائل غیر تصویری نیز هست  از مجموعه داده ی ساختار یافتهiris  شامل 4 ویژگی برای طول و عرض کاسبرگ و گلبرگ استفاده خواهیم کرد که بتوانیم بر اساس این ویژگی ها نوع گل را از 3 کلاس متفاوت تشخیص دهیم.\n",
        "</div>"
      ]
    },
    {
      "cell_type": "markdown",
      "metadata": {
        "id": "-2pdjelIERt9"
      },
      "source": [
        "## <div style=\"direction:rtl;text-align:right;font-family:B Lotus, B Nazanin, Tahoma\">لود کتابخانه های مورد نیاز </div>\n",
        "<div style=\"direction:rtl;text-align:right;font-family:Tahoma\">\n",
        "کتابخانه های مورد نیاز این تمرین لود شده اند\n",
        "<br>\n",
        "در صورت نیاز میتوانید کتابخانه های بیشتری لود کنید:\n",
        "</div>"
      ]
    },
    {
      "cell_type": "code",
      "metadata": {
        "id": "M1ZKyqtg24aQ",
        "outputId": "a5ffbe56-332a-429f-a0de-f0ba4cac6803",
        "colab": {
          "base_uri": "https://localhost:8080/",
          "height": 1000
        }
      },
      "source": [
        "pip install tensorflow --ignore-installed"
      ],
      "execution_count": 7,
      "outputs": [
        {
          "output_type": "stream",
          "text": [
            "Collecting tensorflow\n",
            "\u001b[?25l  Downloading https://files.pythonhosted.org/packages/aa/fd/993aa1333eb54d9f000863fe8ec61e41d12eb833dea51484c76c038718b5/tensorflow-2.5.0-cp37-cp37m-manylinux2010_x86_64.whl (454.3MB)\n",
            "\u001b[K     |████████████████████████████████| 454.3MB 38kB/s \n",
            "\u001b[?25hCollecting grpcio~=1.34.0\n",
            "\u001b[?25l  Downloading https://files.pythonhosted.org/packages/d5/d1/f38a91d8724706427fe973a7dfa11e938cee98aa7196b03d870a25a08bab/grpcio-1.34.1-cp37-cp37m-manylinux2014_x86_64.whl (4.0MB)\n",
            "\u001b[K     |████████████████████████████████| 4.0MB 37.6MB/s \n",
            "\u001b[?25hCollecting astunparse~=1.6.3\n",
            "  Downloading https://files.pythonhosted.org/packages/2b/03/13dde6512ad7b4557eb792fbcf0c653af6076b81e5941d36ec61f7ce6028/astunparse-1.6.3-py2.py3-none-any.whl\n",
            "Collecting flatbuffers~=1.12.0\n",
            "  Downloading https://files.pythonhosted.org/packages/eb/26/712e578c5f14e26ae3314c39a1bdc4eb2ec2f4ddc89b708cf8e0a0d20423/flatbuffers-1.12-py2.py3-none-any.whl\n",
            "Collecting wrapt~=1.12.1\n",
            "  Downloading https://files.pythonhosted.org/packages/82/f7/e43cefbe88c5fd371f4cf0cf5eb3feccd07515af9fd6cf7dbf1d1793a797/wrapt-1.12.1.tar.gz\n",
            "Collecting numpy~=1.19.2\n",
            "\u001b[?25l  Downloading https://files.pythonhosted.org/packages/08/d6/a6aaa29fea945bc6c61d11f6e0697b325ff7446de5ffd62c2fa02f627048/numpy-1.19.5-cp37-cp37m-manylinux2010_x86_64.whl (14.8MB)\n",
            "\u001b[K     |████████████████████████████████| 14.8MB 20.4MB/s \n",
            "\u001b[?25hCollecting tensorboard~=2.5\n",
            "\u001b[?25l  Downloading https://files.pythonhosted.org/packages/44/f5/7feea02a3fb54d5db827ac4b822a7ba8933826b36de21880518250b8733a/tensorboard-2.5.0-py3-none-any.whl (6.0MB)\n",
            "\u001b[K     |████████████████████████████████| 6.0MB 19.0MB/s \n",
            "\u001b[?25hCollecting six~=1.15.0\n",
            "  Downloading https://files.pythonhosted.org/packages/ee/ff/48bde5c0f013094d729fe4b0316ba2a24774b3ff1c52d924a8a4cb04078a/six-1.15.0-py2.py3-none-any.whl\n",
            "Collecting typing-extensions~=3.7.4\n",
            "  Downloading https://files.pythonhosted.org/packages/60/7a/e881b5abb54db0e6e671ab088d079c57ce54e8a01a3ca443f561ccadb37e/typing_extensions-3.7.4.3-py3-none-any.whl\n",
            "Collecting h5py~=3.1.0\n",
            "\u001b[?25l  Downloading https://files.pythonhosted.org/packages/9d/74/9eae2bedd8201ab464308f42c601a12d79727a1c87f0c867fdefb212c6cf/h5py-3.1.0-cp37-cp37m-manylinux1_x86_64.whl (4.0MB)\n",
            "\u001b[K     |████████████████████████████████| 4.0MB 16.0MB/s \n",
            "\u001b[?25hCollecting protobuf>=3.9.2\n",
            "\u001b[?25l  Downloading https://files.pythonhosted.org/packages/4c/53/ddcef00219f2a3c863b24288e24a20c3070bd086a1e77706f22994a7f6db/protobuf-3.17.3-cp37-cp37m-manylinux_2_5_x86_64.manylinux1_x86_64.whl (1.0MB)\n",
            "\u001b[K     |████████████████████████████████| 1.0MB 59.6MB/s \n",
            "\u001b[?25hCollecting absl-py~=0.10\n",
            "\u001b[?25l  Downloading https://files.pythonhosted.org/packages/23/47/835652c7e19530973c73c65e652fc53bd05725d5a7cf9bb8706777869c1e/absl_py-0.13.0-py3-none-any.whl (132kB)\n",
            "\u001b[K     |████████████████████████████████| 133kB 65.0MB/s \n",
            "\u001b[?25hCollecting opt-einsum~=3.3.0\n",
            "\u001b[?25l  Downloading https://files.pythonhosted.org/packages/bc/19/404708a7e54ad2798907210462fd950c3442ea51acc8790f3da48d2bee8b/opt_einsum-3.3.0-py3-none-any.whl (65kB)\n",
            "\u001b[K     |████████████████████████████████| 71kB 9.4MB/s \n",
            "\u001b[?25hCollecting keras-nightly~=2.5.0.dev\n",
            "\u001b[?25l  Downloading https://files.pythonhosted.org/packages/aa/e7/53bc896aa4e11a87aac10a625c676b3a3d57d1c8d9929e4809d31fa0b7d5/keras_nightly-2.5.0.dev2021032900-py2.py3-none-any.whl (1.2MB)\n",
            "\u001b[K     |████████████████████████████████| 1.2MB 37.4MB/s \n",
            "\u001b[?25hCollecting termcolor~=1.1.0\n",
            "  Downloading https://files.pythonhosted.org/packages/8a/48/a76be51647d0eb9f10e2a4511bf3ffb8cc1e6b14e9e4fab46173aa79f981/termcolor-1.1.0.tar.gz\n",
            "Collecting tensorflow-estimator<2.6.0,>=2.5.0rc0\n",
            "\u001b[?25l  Downloading https://files.pythonhosted.org/packages/ec/78/b27f73e923becc6e79e18fe112cf75e3200d1ee35b0dba8fa46181bce56c/tensorflow_estimator-2.5.0-py2.py3-none-any.whl (462kB)\n",
            "\u001b[K     |████████████████████████████████| 471kB 45.5MB/s \n",
            "\u001b[?25hCollecting wheel~=0.35\n",
            "  Downloading https://files.pythonhosted.org/packages/65/63/39d04c74222770ed1589c0eaba06c05891801219272420b40311cd60c880/wheel-0.36.2-py2.py3-none-any.whl\n",
            "Collecting keras-preprocessing~=1.1.2\n",
            "\u001b[?25l  Downloading https://files.pythonhosted.org/packages/79/4c/7c3275a01e12ef9368a892926ab932b33bb13d55794881e3573482b378a7/Keras_Preprocessing-1.1.2-py2.py3-none-any.whl (42kB)\n",
            "\u001b[K     |████████████████████████████████| 51kB 7.1MB/s \n",
            "\u001b[?25hCollecting google-pasta~=0.2\n",
            "\u001b[?25l  Downloading https://files.pythonhosted.org/packages/a3/de/c648ef6835192e6e2cc03f40b19eeda4382c49b5bafb43d88b931c4c74ac/google_pasta-0.2.0-py3-none-any.whl (57kB)\n",
            "\u001b[K     |████████████████████████████████| 61kB 7.6MB/s \n",
            "\u001b[?25hCollecting gast==0.4.0\n",
            "  Downloading https://files.pythonhosted.org/packages/b6/48/583c032b79ae5b3daa02225a675aeb673e58d2cb698e78510feceb11958c/gast-0.4.0-py3-none-any.whl\n",
            "Collecting requests<3,>=2.21.0\n",
            "\u001b[?25l  Downloading https://files.pythonhosted.org/packages/29/c1/24814557f1d22c56d50280771a17307e6bf87b70727d975fd6b2ce6b014a/requests-2.25.1-py2.py3-none-any.whl (61kB)\n",
            "\u001b[K     |████████████████████████████████| 61kB 7.8MB/s \n",
            "\u001b[?25hCollecting setuptools>=41.0.0\n",
            "\u001b[?25l  Downloading https://files.pythonhosted.org/packages/4e/78/56aa1b5f4d8ac548755ae767d84f0be54fdd9d404197a3d9e4659d272348/setuptools-57.0.0-py3-none-any.whl (821kB)\n",
            "\u001b[K     |████████████████████████████████| 829kB 43.0MB/s \n",
            "\u001b[?25hCollecting tensorboard-data-server<0.7.0,>=0.6.0\n",
            "\u001b[?25l  Downloading https://files.pythonhosted.org/packages/60/f9/802efd84988bffd9f644c03b6e66fde8e76c3aa33db4279ddd11c5d61f4b/tensorboard_data_server-0.6.1-py3-none-manylinux2010_x86_64.whl (4.9MB)\n",
            "\u001b[K     |████████████████████████████████| 4.9MB 14.6MB/s \n",
            "\u001b[?25hCollecting tensorboard-plugin-wit>=1.6.0\n",
            "\u001b[?25l  Downloading https://files.pythonhosted.org/packages/1a/c1/499e600ba0c618b451cd9c425ae1c177249940a2086316552fee7d86c954/tensorboard_plugin_wit-1.8.0-py3-none-any.whl (781kB)\n",
            "\u001b[K     |████████████████████████████████| 788kB 53.4MB/s \n",
            "\u001b[?25hCollecting google-auth<2,>=1.6.3\n",
            "\u001b[?25l  Downloading https://files.pythonhosted.org/packages/50/ac/12df156754ee13ea4d57c77de8c4298e8fd00b0e580fecd8c7395374a7d8/google_auth-1.31.0-py2.py3-none-any.whl (147kB)\n",
            "\u001b[K     |████████████████████████████████| 153kB 47.2MB/s \n",
            "\u001b[?25hCollecting werkzeug>=0.11.15\n",
            "\u001b[?25l  Downloading https://files.pythonhosted.org/packages/bd/24/11c3ea5a7e866bf2d97f0501d0b4b1c9bbeade102bb4b588f0d2919a5212/Werkzeug-2.0.1-py3-none-any.whl (288kB)\n",
            "\u001b[K     |████████████████████████████████| 296kB 49.5MB/s \n",
            "\u001b[?25hCollecting markdown>=2.6.8\n",
            "\u001b[?25l  Downloading https://files.pythonhosted.org/packages/6e/33/1ae0f71395e618d6140fbbc9587cc3156591f748226075e0f7d6f9176522/Markdown-3.3.4-py3-none-any.whl (97kB)\n",
            "\u001b[K     |████████████████████████████████| 102kB 10.4MB/s \n",
            "\u001b[?25hCollecting google-auth-oauthlib<0.5,>=0.4.1\n",
            "  Downloading https://files.pythonhosted.org/packages/9d/d3/7541e89f1fc456eef157224f597a8bba22589db6369a03eaba68c11f07a0/google_auth_oauthlib-0.4.4-py2.py3-none-any.whl\n",
            "Collecting cached-property; python_version < \"3.8\"\n",
            "  Downloading https://files.pythonhosted.org/packages/48/19/f2090f7dad41e225c7f2326e4cfe6fff49e57dedb5b53636c9551f86b069/cached_property-1.5.2-py2.py3-none-any.whl\n",
            "Collecting certifi>=2017.4.17\n",
            "\u001b[?25l  Downloading https://files.pythonhosted.org/packages/05/1b/0a0dece0e8aa492a6ec9e4ad2fe366b511558cdc73fd3abc82ba7348e875/certifi-2021.5.30-py2.py3-none-any.whl (145kB)\n",
            "\u001b[K     |████████████████████████████████| 153kB 50.9MB/s \n",
            "\u001b[?25hCollecting idna<3,>=2.5\n",
            "\u001b[?25l  Downloading https://files.pythonhosted.org/packages/a2/38/928ddce2273eaa564f6f50de919327bf3a00f091b5baba8dfa9460f3a8a8/idna-2.10-py2.py3-none-any.whl (58kB)\n",
            "\u001b[K     |████████████████████████████████| 61kB 7.2MB/s \n",
            "\u001b[?25hCollecting urllib3<1.27,>=1.21.1\n",
            "\u001b[?25l  Downloading https://files.pythonhosted.org/packages/0c/cd/1e2ec680ec7b09846dc6e605f5a7709dfb9d7128e51a026e7154e18a234e/urllib3-1.26.5-py2.py3-none-any.whl (138kB)\n",
            "\u001b[K     |████████████████████████████████| 143kB 55.9MB/s \n",
            "\u001b[?25hCollecting chardet<5,>=3.0.2\n",
            "\u001b[?25l  Downloading https://files.pythonhosted.org/packages/19/c7/fa589626997dd07bd87d9269342ccb74b1720384a4d739a1872bd84fbe68/chardet-4.0.0-py2.py3-none-any.whl (178kB)\n",
            "\u001b[K     |████████████████████████████████| 184kB 61.2MB/s \n",
            "\u001b[?25hCollecting rsa<5,>=3.1.4; python_version >= \"3.6\"\n",
            "  Downloading https://files.pythonhosted.org/packages/e9/93/0c0f002031f18b53af7a6166103c02b9c0667be528944137cc954ec921b3/rsa-4.7.2-py3-none-any.whl\n",
            "Collecting cachetools<5.0,>=2.0.0\n",
            "  Downloading https://files.pythonhosted.org/packages/bf/28/c4f5796c67ad06bb91d98d543a5e01805c1ff065e08871f78e52d2a331ad/cachetools-4.2.2-py3-none-any.whl\n",
            "Collecting pyasn1-modules>=0.2.1\n",
            "\u001b[?25l  Downloading https://files.pythonhosted.org/packages/95/de/214830a981892a3e286c3794f41ae67a4495df1108c3da8a9f62159b9a9d/pyasn1_modules-0.2.8-py2.py3-none-any.whl (155kB)\n",
            "\u001b[K     |████████████████████████████████| 163kB 47.7MB/s \n",
            "\u001b[?25hCollecting importlib-metadata; python_version < \"3.8\"\n",
            "  Downloading https://files.pythonhosted.org/packages/23/5d/f2151217058e7d5c5b4b584bc6052c2ae478c5a36b58a056364351613bfb/importlib_metadata-4.5.0-py3-none-any.whl\n",
            "Collecting requests-oauthlib>=0.7.0\n",
            "  Downloading https://files.pythonhosted.org/packages/a3/12/b92740d845ab62ea4edf04d2f4164d82532b5a0b03836d4d4e71c6f3d379/requests_oauthlib-1.3.0-py2.py3-none-any.whl\n",
            "Collecting pyasn1>=0.1.3\n",
            "\u001b[?25l  Downloading https://files.pythonhosted.org/packages/62/1e/a94a8d635fa3ce4cfc7f506003548d0a2447ae76fd5ca53932970fe3053f/pyasn1-0.4.8-py2.py3-none-any.whl (77kB)\n",
            "\u001b[K     |████████████████████████████████| 81kB 9.6MB/s \n",
            "\u001b[?25hCollecting zipp>=0.5\n",
            "  Downloading https://files.pythonhosted.org/packages/0f/8c/715c54e9e34c0c4820f616a913a7de3337d0cd79074dd1bed4dd840f16ae/zipp-3.4.1-py3-none-any.whl\n",
            "Collecting oauthlib>=3.0.0\n",
            "\u001b[?25l  Downloading https://files.pythonhosted.org/packages/e8/5d/9dd1c29e5a786525f6342f6c1d812ed2e37edc653ad297048c1668988053/oauthlib-3.1.1-py2.py3-none-any.whl (146kB)\n",
            "\u001b[K     |████████████████████████████████| 153kB 57.0MB/s \n",
            "\u001b[?25hBuilding wheels for collected packages: wrapt, termcolor\n",
            "  Building wheel for wrapt (setup.py) ... \u001b[?25l\u001b[?25hdone\n",
            "  Created wheel for wrapt: filename=wrapt-1.12.1-cp37-cp37m-linux_x86_64.whl size=68688 sha256=0ecde960a5da95cf0dd4bab15c53686a82869b82bc3e997701821b608baef369\n",
            "  Stored in directory: /root/.cache/pip/wheels/b1/c2/ed/d62208260edbd3fa7156545c00ef966f45f2063d0a84f8208a\n",
            "  Building wheel for termcolor (setup.py) ... \u001b[?25l\u001b[?25hdone\n",
            "  Created wheel for termcolor: filename=termcolor-1.1.0-cp37-none-any.whl size=4848 sha256=0acaf66f7c585354275040f4a242b6775e667c3a7e677b28024df7447bddfee8\n",
            "  Stored in directory: /root/.cache/pip/wheels/7c/06/54/bc84598ba1daf8f970247f550b175aaaee85f68b4b0c5ab2c6\n",
            "Successfully built wrapt termcolor\n",
            "\u001b[31mERROR: tensorflow-metadata 1.0.0 has requirement absl-py<0.13,>=0.9, but you'll have absl-py 0.13.0 which is incompatible.\u001b[0m\n",
            "\u001b[31mERROR: google-colab 1.0.0 has requirement requests~=2.23.0, but you'll have requests 2.25.1 which is incompatible.\u001b[0m\n",
            "\u001b[31mERROR: flask 1.1.4 has requirement Werkzeug<2.0,>=0.15, but you'll have werkzeug 2.0.1 which is incompatible.\u001b[0m\n",
            "\u001b[31mERROR: datascience 0.10.6 has requirement folium==0.2.1, but you'll have folium 0.8.3 which is incompatible.\u001b[0m\n",
            "\u001b[31mERROR: albumentations 0.1.12 has requirement imgaug<0.2.7,>=0.2.5, but you'll have imgaug 0.2.9 which is incompatible.\u001b[0m\n",
            "Installing collected packages: six, grpcio, wheel, astunparse, flatbuffers, wrapt, numpy, certifi, idna, urllib3, chardet, requests, setuptools, tensorboard-data-server, tensorboard-plugin-wit, pyasn1, rsa, cachetools, pyasn1-modules, google-auth, werkzeug, zipp, typing-extensions, importlib-metadata, markdown, absl-py, protobuf, oauthlib, requests-oauthlib, google-auth-oauthlib, tensorboard, cached-property, h5py, opt-einsum, keras-nightly, termcolor, tensorflow-estimator, keras-preprocessing, google-pasta, gast, tensorflow\n",
            "Successfully installed absl-py-0.13.0 astunparse-1.6.3 cached-property-1.5.2 cachetools-4.2.2 certifi-2021.5.30 chardet-4.0.0 flatbuffers-1.12 gast-0.4.0 google-auth-1.31.0 google-auth-oauthlib-0.4.4 google-pasta-0.2.0 grpcio-1.34.1 h5py-3.1.0 idna-2.10 importlib-metadata-4.5.0 keras-nightly-2.5.0.dev2021032900 keras-preprocessing-1.1.2 markdown-3.3.4 numpy-1.19.5 oauthlib-3.1.1 opt-einsum-3.3.0 protobuf-3.17.3 pyasn1-0.4.8 pyasn1-modules-0.2.8 requests-2.25.1 requests-oauthlib-1.3.0 rsa-4.7.2 setuptools-57.0.0 six-1.15.0 tensorboard-2.5.0 tensorboard-data-server-0.6.1 tensorboard-plugin-wit-1.8.0 tensorflow-2.5.0 tensorflow-estimator-2.5.0 termcolor-1.1.0 typing-extensions-3.7.4.3 urllib3-1.26.5 werkzeug-2.0.1 wheel-0.36.2 wrapt-1.12.1 zipp-3.4.1\n"
          ],
          "name": "stdout"
        },
        {
          "output_type": "display_data",
          "data": {
            "application/vnd.colab-display-data+json": {
              "pip_warning": {
                "packages": [
                  "absl",
                  "astunparse",
                  "cached_property",
                  "certifi",
                  "chardet",
                  "flatbuffers",
                  "gast",
                  "google",
                  "h5py",
                  "idna",
                  "keras",
                  "keras_preprocessing",
                  "numpy",
                  "opt_einsum",
                  "pkg_resources",
                  "pyasn1",
                  "pyasn1_modules",
                  "requests",
                  "rsa",
                  "six",
                  "tensorboard",
                  "tensorflow",
                  "termcolor",
                  "typing_extensions",
                  "urllib3",
                  "wrapt"
                ]
              }
            }
          },
          "metadata": {
            "tags": []
          }
        }
      ]
    },
    {
      "cell_type": "code",
      "metadata": {
        "id": "47MpB_jwERt-"
      },
      "source": [
        "import numpy as np\n",
        "from tensorflow import keras\n",
        "from sklearn.datasets import load_iris\n",
        "from sklearn.model_selection import train_test_split\n",
        "from keras.models import Sequential\n",
        "from keras.layers import Dense, Dropout\n",
        "from keras.optimizers import Adam"
      ],
      "execution_count": 9,
      "outputs": []
    },
    {
      "cell_type": "markdown",
      "metadata": {
        "id": "tYP_cacjERuB"
      },
      "source": [
        "<div style=\"direction:rtl;text-align:right;font-family:Tahoma\">\n",
        "در این تمرین میخواهیم از مجموعه داده iris استفاده کنیم.\n",
        "<br>\n",
        "توضیحات این مجموعه داده در سایت آن موجود است:\n",
        "</div>\n",
        "\n",
        "https://archive.ics.uci.edu/ml/datasets/iris\n",
        "\n",
        "\n",
        "<div style=\"direction:rtl;text-align:right;font-family:Tahoma\">\n",
        "ویژگی ها و کلاس های این مجموعه داده به شرح زیر است:\n",
        "</div>\n",
        "\n",
        "Attribute Information:\n",
        "\n",
        "1. sepal length in cm\n",
        "2. sepal width in cm\n",
        "3. petal length in cm\n",
        "4. petal width in cm\n",
        "\n",
        "class:\n",
        "\n",
        "    Iris Setosa\n",
        "    Iris Versicolour\n",
        "    Iris Virginica\n",
        "\n",
        "<div style=\"direction:rtl;text-align:right;font-family:Tahoma\">\n",
        "این دیتاست در کتابخانه sklearn موجود است\n",
        "<br>\n",
        "در قطعه کد زیر ویژگی ها را در x و برچسب یا labelهای متناظر را در y لود شده است.\n",
        "</div>"
      ]
    },
    {
      "cell_type": "code",
      "metadata": {
        "id": "-J6Amnw9ERuD"
      },
      "source": [
        "iris_data = load_iris() # load the iris dataset\n",
        "x = iris_data.data\n",
        "y = iris_data.target.reshape(-1, 1) # Convert data to a single column"
      ],
      "execution_count": 2,
      "outputs": []
    },
    {
      "cell_type": "markdown",
      "metadata": {
        "id": "DVRYPVnmERuD"
      },
      "source": [
        "# <div style=\"direction:rtl;text-align:right;font-family:B Lotus, B Nazanin, Tahoma\">سوال 1:</div>\n",
        "<div style=\"direction:rtl;text-align:right;font-family:Tahoma\">\n",
        "برچسب یا label های ما در حال حاضر عددی است.\n",
        "<br>\n",
        "این اعداد 0 تا 2 هستند و به عبارتی 3 حالت مختلف دارند.\n",
        "<br>\n",
        "این برچسب ها را به فرمت one-hot تبدیل کنید و خروجی را مجدد در y بریزید.\n",
        "\n",
        "<br>\n",
        "<b>راهنمایی: </b>\n",
        "از تابع keras.utils.to_categorical استفاده کنید.\n",
        "</div>"
      ]
    },
    {
      "cell_type": "code",
      "metadata": {
        "id": "ZdP03eI-ERuE"
      },
      "source": [
        "y = keras.utils.to_categorical(y, num_classes=3)"
      ],
      "execution_count": 10,
      "outputs": []
    },
    {
      "cell_type": "code",
      "metadata": {
        "id": "lVpCwiD23eXh",
        "outputId": "6126e742-276c-4b41-8744-e0a5249e1beb",
        "colab": {
          "base_uri": "https://localhost:8080/"
        }
      },
      "source": [
        "y.shape"
      ],
      "execution_count": 13,
      "outputs": [
        {
          "output_type": "execute_result",
          "data": {
            "text/plain": [
              "(150, 3)"
            ]
          },
          "metadata": {
            "tags": []
          },
          "execution_count": 13
        }
      ]
    },
    {
      "cell_type": "markdown",
      "metadata": {
        "id": "JKG6f8s0ERuF"
      },
      "source": [
        "<div style=\"direction:rtl;text-align:right;font-family:Tahoma\">\n",
        "در زیر داده ها  به داده های test و train تقسیم شده است:\n",
        "</div>"
      ]
    },
    {
      "cell_type": "code",
      "metadata": {
        "id": "Z8rqnA6gERuG"
      },
      "source": [
        "# Split the data for training and testing\n",
        "train_x, test_x, train_y, test_y = train_test_split(x, y, test_size=0.20)"
      ],
      "execution_count": 11,
      "outputs": []
    },
    {
      "cell_type": "markdown",
      "metadata": {
        "id": "dHdpFC00ERuG"
      },
      "source": [
        "# <div style=\"direction:rtl;text-align:right;font-family:B Lotus, B Nazanin, Tahoma\">سوال 2:</div>\n",
        "<div style=\"direction:rtl;text-align:right;font-family:Tahoma\">\n",
        "یک شبکه با دو hidden-layer در هر لایه 10 نوران و تابع فعالیت relu بسازید. یک لایه Dropout با نرخ 0.5 در لایه آخر ماقبل softmax نیز اضافه کنید.\n",
        "</div>"
      ]
    },
    {
      "cell_type": "code",
      "metadata": {
        "id": "uLHqrg5CERuH"
      },
      "source": [
        "# Preprocess input data\n",
        "x_train=np.array(train_x)\n",
        "x_test=np.array(test_y)\n",
        "x_train = x_train.astype('float32')\n",
        "x_test = x_test.astype('float32')\n",
        "x_train /= 255\n",
        "x_test /= 255\n",
        "\n",
        "#Define model architecture\n",
        "model = Sequential()\n",
        "model.add(Dense(10, activation='relu', input_dim=4))\n",
        "model.add(Dense(10, activation='relu'))\n",
        "model.add(Dropout(0.5))\n",
        "model.add(Dense(3, activation='softmax'))\n"
      ],
      "execution_count": 14,
      "outputs": []
    },
    {
      "cell_type": "code",
      "metadata": {
        "id": "WkeM9y8_ERuI",
        "outputId": "19b340de-bb2a-4612-e0b0-2b4e321477dd",
        "colab": {
          "base_uri": "https://localhost:8080/"
        }
      },
      "source": [
        "model.summary()"
      ],
      "execution_count": 15,
      "outputs": [
        {
          "output_type": "stream",
          "text": [
            "Model: \"sequential\"\n",
            "_________________________________________________________________\n",
            "Layer (type)                 Output Shape              Param #   \n",
            "=================================================================\n",
            "dense (Dense)                (None, 10)                50        \n",
            "_________________________________________________________________\n",
            "dense_1 (Dense)              (None, 10)                110       \n",
            "_________________________________________________________________\n",
            "dropout (Dropout)            (None, 10)                0         \n",
            "_________________________________________________________________\n",
            "dense_2 (Dense)              (None, 3)                 33        \n",
            "=================================================================\n",
            "Total params: 193\n",
            "Trainable params: 193\n",
            "Non-trainable params: 0\n",
            "_________________________________________________________________\n"
          ],
          "name": "stdout"
        }
      ]
    },
    {
      "cell_type": "markdown",
      "metadata": {
        "id": "gfvIE1wcERuJ"
      },
      "source": [
        "<div style=\"direction:rtl;text-align:right;font-family:Tahoma\">در زیر مدل کامپایل شده است.</div>"
      ]
    },
    {
      "cell_type": "code",
      "metadata": {
        "id": "-0CT5emzERuK",
        "outputId": "e8685a24-d7bf-4e3e-e68e-fd6a7129b430",
        "colab": {
          "base_uri": "https://localhost:8080/"
        }
      },
      "source": [
        "# Adam optimizer with learning rate of 0.001\n",
        "optimizer = Adam(lr=0.001)\n",
        "model.compile(optimizer, loss='categorical_crossentropy', metrics=['accuracy'])"
      ],
      "execution_count": 16,
      "outputs": [
        {
          "output_type": "stream",
          "text": [
            "/usr/local/lib/python3.7/dist-packages/tensorflow/python/keras/optimizer_v2/optimizer_v2.py:375: UserWarning: The `lr` argument is deprecated, use `learning_rate` instead.\n",
            "  \"The `lr` argument is deprecated, use `learning_rate` instead.\")\n"
          ],
          "name": "stderr"
        }
      ]
    },
    {
      "cell_type": "markdown",
      "metadata": {
        "id": "vSpCMlU8ERuK"
      },
      "source": [
        "# <div style=\"direction:rtl;text-align:right;font-family:B Lotus, B Nazanin, Tahoma\">سوال 3:</div>\n",
        "<div style=\"direction:rtl;text-align:right;font-family:Tahoma\">\n",
        "مدل را با  batch_size=5 و تعداد 200 ایپاک آموزش دهید.\n",
        "<br>\n",
        "<b>راهنمایی: </b>\n",
        "از تابع model.fit استفاده کنید.\n",
        "</div>"
      ]
    },
    {
      "cell_type": "code",
      "metadata": {
        "id": "ANbxnif-ERuL",
        "outputId": "788347fb-4c22-4858-d71c-58c25883b94e",
        "colab": {
          "base_uri": "https://localhost:8080/"
        }
      },
      "source": [
        "# Train the model\n",
        "model.fit(x_train, train_y,\n",
        "          epochs=200,\n",
        "          batch_size=5 , validation_split = 0.2)"
      ],
      "execution_count": 18,
      "outputs": [
        {
          "output_type": "stream",
          "text": [
            "Epoch 1/200\n",
            "20/20 [==============================] - 1s 27ms/step - loss: 0.5108 - accuracy: 0.8021 - val_loss: 0.4073 - val_accuracy: 0.9583\n",
            "Epoch 2/200\n",
            "20/20 [==============================] - 0s 3ms/step - loss: 0.4872 - accuracy: 0.8021 - val_loss: 0.4192 - val_accuracy: 1.0000\n",
            "Epoch 3/200\n",
            "20/20 [==============================] - 0s 3ms/step - loss: 0.5131 - accuracy: 0.7188 - val_loss: 0.4164 - val_accuracy: 0.9583\n",
            "Epoch 4/200\n",
            "20/20 [==============================] - 0s 2ms/step - loss: 0.5108 - accuracy: 0.7917 - val_loss: 0.4215 - val_accuracy: 1.0000\n",
            "Epoch 5/200\n",
            "20/20 [==============================] - 0s 3ms/step - loss: 0.5394 - accuracy: 0.7708 - val_loss: 0.4287 - val_accuracy: 1.0000\n",
            "Epoch 6/200\n",
            "20/20 [==============================] - 0s 2ms/step - loss: 0.4932 - accuracy: 0.7917 - val_loss: 0.4235 - val_accuracy: 1.0000\n",
            "Epoch 7/200\n",
            "20/20 [==============================] - 0s 3ms/step - loss: 0.5026 - accuracy: 0.7396 - val_loss: 0.4376 - val_accuracy: 0.9583\n",
            "Epoch 8/200\n",
            "20/20 [==============================] - 0s 3ms/step - loss: 0.5216 - accuracy: 0.7708 - val_loss: 0.4386 - val_accuracy: 0.9583\n",
            "Epoch 9/200\n",
            "20/20 [==============================] - 0s 3ms/step - loss: 0.4744 - accuracy: 0.8229 - val_loss: 0.4311 - val_accuracy: 0.9583\n",
            "Epoch 10/200\n",
            "20/20 [==============================] - 0s 3ms/step - loss: 0.5489 - accuracy: 0.7604 - val_loss: 0.4467 - val_accuracy: 0.9583\n",
            "Epoch 11/200\n",
            "20/20 [==============================] - 0s 3ms/step - loss: 0.5069 - accuracy: 0.8021 - val_loss: 0.4445 - val_accuracy: 0.9583\n",
            "Epoch 12/200\n",
            "20/20 [==============================] - 0s 3ms/step - loss: 0.5575 - accuracy: 0.8021 - val_loss: 0.4453 - val_accuracy: 0.9583\n",
            "Epoch 13/200\n",
            "20/20 [==============================] - 0s 3ms/step - loss: 0.4756 - accuracy: 0.8438 - val_loss: 0.4492 - val_accuracy: 0.9583\n",
            "Epoch 14/200\n",
            "20/20 [==============================] - 0s 3ms/step - loss: 0.5053 - accuracy: 0.7917 - val_loss: 0.4378 - val_accuracy: 0.9583\n",
            "Epoch 15/200\n",
            "20/20 [==============================] - 0s 3ms/step - loss: 0.5238 - accuracy: 0.7708 - val_loss: 0.4381 - val_accuracy: 0.9583\n",
            "Epoch 16/200\n",
            "20/20 [==============================] - 0s 3ms/step - loss: 0.4773 - accuracy: 0.8229 - val_loss: 0.4398 - val_accuracy: 0.9583\n",
            "Epoch 17/200\n",
            "20/20 [==============================] - 0s 3ms/step - loss: 0.5466 - accuracy: 0.7083 - val_loss: 0.4625 - val_accuracy: 0.8750\n",
            "Epoch 18/200\n",
            "20/20 [==============================] - 0s 3ms/step - loss: 0.4937 - accuracy: 0.7500 - val_loss: 0.4385 - val_accuracy: 0.9583\n",
            "Epoch 19/200\n",
            "20/20 [==============================] - 0s 2ms/step - loss: 0.5278 - accuracy: 0.7500 - val_loss: 0.4437 - val_accuracy: 0.9583\n",
            "Epoch 20/200\n",
            "20/20 [==============================] - 0s 3ms/step - loss: 0.5487 - accuracy: 0.7292 - val_loss: 0.4424 - val_accuracy: 0.9583\n",
            "Epoch 21/200\n",
            "20/20 [==============================] - 0s 2ms/step - loss: 0.4773 - accuracy: 0.8229 - val_loss: 0.4530 - val_accuracy: 0.8750\n",
            "Epoch 22/200\n",
            "20/20 [==============================] - 0s 4ms/step - loss: 0.4917 - accuracy: 0.7917 - val_loss: 0.4307 - val_accuracy: 0.9583\n",
            "Epoch 23/200\n",
            "20/20 [==============================] - 0s 3ms/step - loss: 0.5065 - accuracy: 0.7708 - val_loss: 0.4422 - val_accuracy: 0.9583\n",
            "Epoch 24/200\n",
            "20/20 [==============================] - 0s 2ms/step - loss: 0.5503 - accuracy: 0.7917 - val_loss: 0.4456 - val_accuracy: 0.9583\n",
            "Epoch 25/200\n",
            "20/20 [==============================] - 0s 3ms/step - loss: 0.4610 - accuracy: 0.8646 - val_loss: 0.4461 - val_accuracy: 0.9583\n",
            "Epoch 26/200\n",
            "20/20 [==============================] - 0s 3ms/step - loss: 0.5275 - accuracy: 0.7396 - val_loss: 0.4471 - val_accuracy: 0.8750\n",
            "Epoch 27/200\n",
            "20/20 [==============================] - 0s 2ms/step - loss: 0.5114 - accuracy: 0.7917 - val_loss: 0.4479 - val_accuracy: 0.8750\n",
            "Epoch 28/200\n",
            "20/20 [==============================] - 0s 3ms/step - loss: 0.4927 - accuracy: 0.8229 - val_loss: 0.4365 - val_accuracy: 0.9583\n",
            "Epoch 29/200\n",
            "20/20 [==============================] - 0s 3ms/step - loss: 0.4650 - accuracy: 0.8646 - val_loss: 0.4491 - val_accuracy: 0.8750\n",
            "Epoch 30/200\n",
            "20/20 [==============================] - 0s 2ms/step - loss: 0.4999 - accuracy: 0.7708 - val_loss: 0.4411 - val_accuracy: 0.9583\n",
            "Epoch 31/200\n",
            "20/20 [==============================] - 0s 3ms/step - loss: 0.4874 - accuracy: 0.8125 - val_loss: 0.4572 - val_accuracy: 0.8750\n",
            "Epoch 32/200\n",
            "20/20 [==============================] - 0s 3ms/step - loss: 0.4813 - accuracy: 0.7812 - val_loss: 0.4506 - val_accuracy: 0.8750\n",
            "Epoch 33/200\n",
            "20/20 [==============================] - 0s 3ms/step - loss: 0.4817 - accuracy: 0.8125 - val_loss: 0.4398 - val_accuracy: 0.9583\n",
            "Epoch 34/200\n",
            "20/20 [==============================] - 0s 2ms/step - loss: 0.4812 - accuracy: 0.8438 - val_loss: 0.4381 - val_accuracy: 0.9583\n",
            "Epoch 35/200\n",
            "20/20 [==============================] - 0s 3ms/step - loss: 0.4595 - accuracy: 0.8229 - val_loss: 0.4510 - val_accuracy: 0.8750\n",
            "Epoch 36/200\n",
            "20/20 [==============================] - 0s 2ms/step - loss: 0.5098 - accuracy: 0.7708 - val_loss: 0.4658 - val_accuracy: 0.8750\n",
            "Epoch 37/200\n",
            "20/20 [==============================] - 0s 3ms/step - loss: 0.4590 - accuracy: 0.8229 - val_loss: 0.4479 - val_accuracy: 0.8750\n",
            "Epoch 38/200\n",
            "20/20 [==============================] - 0s 3ms/step - loss: 0.4720 - accuracy: 0.8229 - val_loss: 0.4450 - val_accuracy: 0.8750\n",
            "Epoch 39/200\n",
            "20/20 [==============================] - 0s 3ms/step - loss: 0.5233 - accuracy: 0.7188 - val_loss: 0.4408 - val_accuracy: 0.9167\n",
            "Epoch 40/200\n",
            "20/20 [==============================] - 0s 3ms/step - loss: 0.4558 - accuracy: 0.8333 - val_loss: 0.4520 - val_accuracy: 0.8750\n",
            "Epoch 41/200\n",
            "20/20 [==============================] - 0s 3ms/step - loss: 0.5004 - accuracy: 0.7396 - val_loss: 0.4552 - val_accuracy: 0.8750\n",
            "Epoch 42/200\n",
            "20/20 [==============================] - 0s 3ms/step - loss: 0.5309 - accuracy: 0.7604 - val_loss: 0.4692 - val_accuracy: 0.8750\n",
            "Epoch 43/200\n",
            "20/20 [==============================] - 0s 3ms/step - loss: 0.4837 - accuracy: 0.7917 - val_loss: 0.4402 - val_accuracy: 0.9167\n",
            "Epoch 44/200\n",
            "20/20 [==============================] - 0s 3ms/step - loss: 0.4994 - accuracy: 0.8229 - val_loss: 0.4530 - val_accuracy: 0.8750\n",
            "Epoch 45/200\n",
            "20/20 [==============================] - 0s 3ms/step - loss: 0.5371 - accuracy: 0.7812 - val_loss: 0.4455 - val_accuracy: 0.8750\n",
            "Epoch 46/200\n",
            "20/20 [==============================] - 0s 3ms/step - loss: 0.4420 - accuracy: 0.8646 - val_loss: 0.4438 - val_accuracy: 0.8750\n",
            "Epoch 47/200\n",
            "20/20 [==============================] - 0s 3ms/step - loss: 0.4905 - accuracy: 0.8438 - val_loss: 0.4491 - val_accuracy: 0.8750\n",
            "Epoch 48/200\n",
            "20/20 [==============================] - 0s 3ms/step - loss: 0.4490 - accuracy: 0.8438 - val_loss: 0.4361 - val_accuracy: 0.9583\n",
            "Epoch 49/200\n",
            "20/20 [==============================] - 0s 3ms/step - loss: 0.4550 - accuracy: 0.8750 - val_loss: 0.4464 - val_accuracy: 0.8750\n",
            "Epoch 50/200\n",
            "20/20 [==============================] - 0s 3ms/step - loss: 0.4983 - accuracy: 0.7500 - val_loss: 0.4335 - val_accuracy: 0.9583\n",
            "Epoch 51/200\n",
            "20/20 [==============================] - 0s 3ms/step - loss: 0.4783 - accuracy: 0.7812 - val_loss: 0.4254 - val_accuracy: 0.9583\n",
            "Epoch 52/200\n",
            "20/20 [==============================] - 0s 3ms/step - loss: 0.4435 - accuracy: 0.8125 - val_loss: 0.4264 - val_accuracy: 0.9583\n",
            "Epoch 53/200\n",
            "20/20 [==============================] - 0s 2ms/step - loss: 0.4766 - accuracy: 0.7812 - val_loss: 0.4284 - val_accuracy: 0.9583\n",
            "Epoch 54/200\n",
            "20/20 [==============================] - 0s 3ms/step - loss: 0.4539 - accuracy: 0.8333 - val_loss: 0.4465 - val_accuracy: 0.8750\n",
            "Epoch 55/200\n",
            "20/20 [==============================] - 0s 3ms/step - loss: 0.5177 - accuracy: 0.7500 - val_loss: 0.4647 - val_accuracy: 0.8750\n",
            "Epoch 56/200\n",
            "20/20 [==============================] - 0s 3ms/step - loss: 0.4693 - accuracy: 0.8125 - val_loss: 0.4267 - val_accuracy: 0.9583\n",
            "Epoch 57/200\n",
            "20/20 [==============================] - 0s 3ms/step - loss: 0.4481 - accuracy: 0.7812 - val_loss: 0.4269 - val_accuracy: 0.9583\n",
            "Epoch 58/200\n",
            "20/20 [==============================] - 0s 3ms/step - loss: 0.5116 - accuracy: 0.7708 - val_loss: 0.4367 - val_accuracy: 0.8750\n",
            "Epoch 59/200\n",
            "20/20 [==============================] - 0s 4ms/step - loss: 0.4834 - accuracy: 0.8021 - val_loss: 0.4236 - val_accuracy: 0.9583\n",
            "Epoch 60/200\n",
            "20/20 [==============================] - 0s 3ms/step - loss: 0.4799 - accuracy: 0.7917 - val_loss: 0.4194 - val_accuracy: 0.9583\n",
            "Epoch 61/200\n",
            "20/20 [==============================] - 0s 2ms/step - loss: 0.4355 - accuracy: 0.8646 - val_loss: 0.4239 - val_accuracy: 0.9583\n",
            "Epoch 62/200\n",
            "20/20 [==============================] - 0s 2ms/step - loss: 0.5329 - accuracy: 0.7188 - val_loss: 0.4518 - val_accuracy: 0.8750\n",
            "Epoch 63/200\n",
            "20/20 [==============================] - 0s 3ms/step - loss: 0.4320 - accuracy: 0.8229 - val_loss: 0.4230 - val_accuracy: 0.9583\n",
            "Epoch 64/200\n",
            "20/20 [==============================] - 0s 3ms/step - loss: 0.5128 - accuracy: 0.8229 - val_loss: 0.4257 - val_accuracy: 0.9583\n",
            "Epoch 65/200\n",
            "20/20 [==============================] - 0s 3ms/step - loss: 0.4811 - accuracy: 0.7812 - val_loss: 0.4446 - val_accuracy: 0.8750\n",
            "Epoch 66/200\n",
            "20/20 [==============================] - 0s 3ms/step - loss: 0.4477 - accuracy: 0.8021 - val_loss: 0.4295 - val_accuracy: 0.8750\n",
            "Epoch 67/200\n",
            "20/20 [==============================] - 0s 3ms/step - loss: 0.4548 - accuracy: 0.8229 - val_loss: 0.4305 - val_accuracy: 0.8750\n",
            "Epoch 68/200\n",
            "20/20 [==============================] - 0s 3ms/step - loss: 0.4318 - accuracy: 0.8438 - val_loss: 0.4328 - val_accuracy: 0.8750\n",
            "Epoch 69/200\n",
            "20/20 [==============================] - 0s 3ms/step - loss: 0.4932 - accuracy: 0.7708 - val_loss: 0.4179 - val_accuracy: 0.9583\n",
            "Epoch 70/200\n",
            "20/20 [==============================] - 0s 3ms/step - loss: 0.5299 - accuracy: 0.7812 - val_loss: 0.4219 - val_accuracy: 0.9167\n",
            "Epoch 71/200\n",
            "20/20 [==============================] - 0s 3ms/step - loss: 0.4967 - accuracy: 0.8021 - val_loss: 0.4315 - val_accuracy: 0.8750\n",
            "Epoch 72/200\n",
            "20/20 [==============================] - 0s 3ms/step - loss: 0.4804 - accuracy: 0.8229 - val_loss: 0.4142 - val_accuracy: 0.9583\n",
            "Epoch 73/200\n",
            "20/20 [==============================] - 0s 2ms/step - loss: 0.4348 - accuracy: 0.8229 - val_loss: 0.4050 - val_accuracy: 0.9583\n",
            "Epoch 74/200\n",
            "20/20 [==============================] - 0s 3ms/step - loss: 0.4793 - accuracy: 0.8125 - val_loss: 0.4211 - val_accuracy: 0.8750\n",
            "Epoch 75/200\n",
            "20/20 [==============================] - 0s 3ms/step - loss: 0.4565 - accuracy: 0.8229 - val_loss: 0.4089 - val_accuracy: 0.9583\n",
            "Epoch 76/200\n",
            "20/20 [==============================] - 0s 3ms/step - loss: 0.4821 - accuracy: 0.7500 - val_loss: 0.4396 - val_accuracy: 0.8750\n",
            "Epoch 77/200\n",
            "20/20 [==============================] - 0s 3ms/step - loss: 0.5175 - accuracy: 0.7708 - val_loss: 0.4289 - val_accuracy: 0.8750\n",
            "Epoch 78/200\n",
            "20/20 [==============================] - 0s 3ms/step - loss: 0.5250 - accuracy: 0.7917 - val_loss: 0.4263 - val_accuracy: 0.8750\n",
            "Epoch 79/200\n",
            "20/20 [==============================] - 0s 2ms/step - loss: 0.4653 - accuracy: 0.7917 - val_loss: 0.4135 - val_accuracy: 0.9583\n",
            "Epoch 80/200\n",
            "20/20 [==============================] - 0s 4ms/step - loss: 0.4853 - accuracy: 0.8125 - val_loss: 0.4223 - val_accuracy: 0.8750\n",
            "Epoch 81/200\n",
            "20/20 [==============================] - 0s 4ms/step - loss: 0.4288 - accuracy: 0.8750 - val_loss: 0.4359 - val_accuracy: 0.8750\n",
            "Epoch 82/200\n",
            "20/20 [==============================] - 0s 3ms/step - loss: 0.4747 - accuracy: 0.7604 - val_loss: 0.4402 - val_accuracy: 0.8750\n",
            "Epoch 83/200\n",
            "20/20 [==============================] - 0s 3ms/step - loss: 0.4335 - accuracy: 0.8125 - val_loss: 0.4115 - val_accuracy: 0.9583\n",
            "Epoch 84/200\n",
            "20/20 [==============================] - 0s 3ms/step - loss: 0.4404 - accuracy: 0.8125 - val_loss: 0.4268 - val_accuracy: 0.8750\n",
            "Epoch 85/200\n",
            "20/20 [==============================] - 0s 3ms/step - loss: 0.4760 - accuracy: 0.8021 - val_loss: 0.4121 - val_accuracy: 0.9583\n",
            "Epoch 86/200\n",
            "20/20 [==============================] - 0s 3ms/step - loss: 0.4627 - accuracy: 0.8333 - val_loss: 0.4322 - val_accuracy: 0.8750\n",
            "Epoch 87/200\n",
            "20/20 [==============================] - 0s 3ms/step - loss: 0.5218 - accuracy: 0.7396 - val_loss: 0.4454 - val_accuracy: 0.8750\n",
            "Epoch 88/200\n",
            "20/20 [==============================] - 0s 3ms/step - loss: 0.4512 - accuracy: 0.8333 - val_loss: 0.4524 - val_accuracy: 0.8750\n",
            "Epoch 89/200\n",
            "20/20 [==============================] - 0s 3ms/step - loss: 0.4549 - accuracy: 0.8021 - val_loss: 0.4155 - val_accuracy: 0.9583\n",
            "Epoch 90/200\n",
            "20/20 [==============================] - 0s 3ms/step - loss: 0.4808 - accuracy: 0.8333 - val_loss: 0.4122 - val_accuracy: 0.9583\n",
            "Epoch 91/200\n",
            "20/20 [==============================] - 0s 3ms/step - loss: 0.4341 - accuracy: 0.8229 - val_loss: 0.4252 - val_accuracy: 0.8750\n",
            "Epoch 92/200\n",
            "20/20 [==============================] - 0s 3ms/step - loss: 0.4814 - accuracy: 0.7500 - val_loss: 0.4233 - val_accuracy: 0.8750\n",
            "Epoch 93/200\n",
            "20/20 [==============================] - 0s 3ms/step - loss: 0.4964 - accuracy: 0.8229 - val_loss: 0.4401 - val_accuracy: 0.8750\n",
            "Epoch 94/200\n",
            "20/20 [==============================] - 0s 4ms/step - loss: 0.4283 - accuracy: 0.8229 - val_loss: 0.4244 - val_accuracy: 0.8750\n",
            "Epoch 95/200\n",
            "20/20 [==============================] - 0s 3ms/step - loss: 0.4513 - accuracy: 0.8333 - val_loss: 0.4248 - val_accuracy: 0.8750\n",
            "Epoch 96/200\n",
            "20/20 [==============================] - 0s 3ms/step - loss: 0.4541 - accuracy: 0.8333 - val_loss: 0.4366 - val_accuracy: 0.8750\n",
            "Epoch 97/200\n",
            "20/20 [==============================] - 0s 4ms/step - loss: 0.4773 - accuracy: 0.7396 - val_loss: 0.4278 - val_accuracy: 0.8750\n",
            "Epoch 98/200\n",
            "20/20 [==============================] - 0s 3ms/step - loss: 0.4994 - accuracy: 0.8125 - val_loss: 0.4187 - val_accuracy: 0.8750\n",
            "Epoch 99/200\n",
            "20/20 [==============================] - 0s 3ms/step - loss: 0.4624 - accuracy: 0.7917 - val_loss: 0.4259 - val_accuracy: 0.8750\n",
            "Epoch 100/200\n",
            "20/20 [==============================] - 0s 3ms/step - loss: 0.4272 - accuracy: 0.8333 - val_loss: 0.4156 - val_accuracy: 0.8750\n",
            "Epoch 101/200\n",
            "20/20 [==============================] - 0s 3ms/step - loss: 0.4352 - accuracy: 0.8229 - val_loss: 0.4155 - val_accuracy: 0.8750\n",
            "Epoch 102/200\n",
            "20/20 [==============================] - 0s 3ms/step - loss: 0.4971 - accuracy: 0.8229 - val_loss: 0.4183 - val_accuracy: 0.8750\n",
            "Epoch 103/200\n",
            "20/20 [==============================] - 0s 3ms/step - loss: 0.4560 - accuracy: 0.8229 - val_loss: 0.4242 - val_accuracy: 0.8750\n",
            "Epoch 104/200\n",
            "20/20 [==============================] - 0s 3ms/step - loss: 0.4935 - accuracy: 0.8125 - val_loss: 0.4282 - val_accuracy: 0.8750\n",
            "Epoch 105/200\n",
            "20/20 [==============================] - 0s 3ms/step - loss: 0.5072 - accuracy: 0.7917 - val_loss: 0.4183 - val_accuracy: 0.8750\n",
            "Epoch 106/200\n",
            "20/20 [==============================] - 0s 4ms/step - loss: 0.4528 - accuracy: 0.8021 - val_loss: 0.4147 - val_accuracy: 0.8750\n",
            "Epoch 107/200\n",
            "20/20 [==============================] - 0s 4ms/step - loss: 0.4243 - accuracy: 0.8229 - val_loss: 0.4015 - val_accuracy: 0.9583\n",
            "Epoch 108/200\n",
            "20/20 [==============================] - 0s 3ms/step - loss: 0.4680 - accuracy: 0.7708 - val_loss: 0.4148 - val_accuracy: 0.8750\n",
            "Epoch 109/200\n",
            "20/20 [==============================] - 0s 3ms/step - loss: 0.4665 - accuracy: 0.7812 - val_loss: 0.4140 - val_accuracy: 0.8750\n",
            "Epoch 110/200\n",
            "20/20 [==============================] - 0s 3ms/step - loss: 0.4839 - accuracy: 0.7708 - val_loss: 0.4174 - val_accuracy: 0.8750\n",
            "Epoch 111/200\n",
            "20/20 [==============================] - 0s 3ms/step - loss: 0.4435 - accuracy: 0.8542 - val_loss: 0.4071 - val_accuracy: 0.9167\n",
            "Epoch 112/200\n",
            "20/20 [==============================] - 0s 3ms/step - loss: 0.4705 - accuracy: 0.7917 - val_loss: 0.3909 - val_accuracy: 0.9583\n",
            "Epoch 113/200\n",
            "20/20 [==============================] - 0s 3ms/step - loss: 0.4180 - accuracy: 0.8438 - val_loss: 0.4119 - val_accuracy: 0.8750\n",
            "Epoch 114/200\n",
            "20/20 [==============================] - 0s 3ms/step - loss: 0.4724 - accuracy: 0.8021 - val_loss: 0.4270 - val_accuracy: 0.8750\n",
            "Epoch 115/200\n",
            "20/20 [==============================] - 0s 3ms/step - loss: 0.4473 - accuracy: 0.8333 - val_loss: 0.4209 - val_accuracy: 0.8750\n",
            "Epoch 116/200\n",
            "20/20 [==============================] - 0s 4ms/step - loss: 0.4666 - accuracy: 0.8021 - val_loss: 0.4117 - val_accuracy: 0.8750\n",
            "Epoch 117/200\n",
            "20/20 [==============================] - 0s 3ms/step - loss: 0.4656 - accuracy: 0.8333 - val_loss: 0.4146 - val_accuracy: 0.8750\n",
            "Epoch 118/200\n",
            "20/20 [==============================] - 0s 3ms/step - loss: 0.4445 - accuracy: 0.7917 - val_loss: 0.4342 - val_accuracy: 0.8750\n",
            "Epoch 119/200\n",
            "20/20 [==============================] - 0s 4ms/step - loss: 0.4177 - accuracy: 0.8542 - val_loss: 0.3875 - val_accuracy: 0.9583\n",
            "Epoch 120/200\n",
            "20/20 [==============================] - 0s 3ms/step - loss: 0.4232 - accuracy: 0.8333 - val_loss: 0.3892 - val_accuracy: 0.9583\n",
            "Epoch 121/200\n",
            "20/20 [==============================] - 0s 3ms/step - loss: 0.4355 - accuracy: 0.8333 - val_loss: 0.4061 - val_accuracy: 0.8750\n",
            "Epoch 122/200\n",
            "20/20 [==============================] - 0s 2ms/step - loss: 0.4705 - accuracy: 0.7917 - val_loss: 0.4061 - val_accuracy: 0.8750\n",
            "Epoch 123/200\n",
            "20/20 [==============================] - 0s 3ms/step - loss: 0.3883 - accuracy: 0.8646 - val_loss: 0.4124 - val_accuracy: 0.8750\n",
            "Epoch 124/200\n",
            "20/20 [==============================] - 0s 3ms/step - loss: 0.4412 - accuracy: 0.8333 - val_loss: 0.4058 - val_accuracy: 0.8750\n",
            "Epoch 125/200\n",
            "20/20 [==============================] - 0s 3ms/step - loss: 0.5698 - accuracy: 0.7188 - val_loss: 0.3886 - val_accuracy: 0.9583\n",
            "Epoch 126/200\n",
            "20/20 [==============================] - 0s 3ms/step - loss: 0.4211 - accuracy: 0.7917 - val_loss: 0.4029 - val_accuracy: 0.8750\n",
            "Epoch 127/200\n",
            "20/20 [==============================] - 0s 3ms/step - loss: 0.4480 - accuracy: 0.8125 - val_loss: 0.4284 - val_accuracy: 0.8750\n",
            "Epoch 128/200\n",
            "20/20 [==============================] - 0s 3ms/step - loss: 0.4096 - accuracy: 0.8750 - val_loss: 0.4041 - val_accuracy: 0.8750\n",
            "Epoch 129/200\n",
            "20/20 [==============================] - 0s 3ms/step - loss: 0.4922 - accuracy: 0.8125 - val_loss: 0.3997 - val_accuracy: 0.9167\n",
            "Epoch 130/200\n",
            "20/20 [==============================] - 0s 3ms/step - loss: 0.4460 - accuracy: 0.8333 - val_loss: 0.4036 - val_accuracy: 0.8750\n",
            "Epoch 131/200\n",
            "20/20 [==============================] - 0s 3ms/step - loss: 0.4151 - accuracy: 0.8333 - val_loss: 0.4205 - val_accuracy: 0.8750\n",
            "Epoch 132/200\n",
            "20/20 [==============================] - 0s 3ms/step - loss: 0.4047 - accuracy: 0.8333 - val_loss: 0.3956 - val_accuracy: 0.9583\n",
            "Epoch 133/200\n",
            "20/20 [==============================] - 0s 3ms/step - loss: 0.4994 - accuracy: 0.8438 - val_loss: 0.4185 - val_accuracy: 0.8750\n",
            "Epoch 134/200\n",
            "20/20 [==============================] - 0s 3ms/step - loss: 0.4823 - accuracy: 0.8229 - val_loss: 0.4381 - val_accuracy: 0.8750\n",
            "Epoch 135/200\n",
            "20/20 [==============================] - 0s 3ms/step - loss: 0.3872 - accuracy: 0.8333 - val_loss: 0.4266 - val_accuracy: 0.8750\n",
            "Epoch 136/200\n",
            "20/20 [==============================] - 0s 3ms/step - loss: 0.4875 - accuracy: 0.8438 - val_loss: 0.3939 - val_accuracy: 0.9583\n",
            "Epoch 137/200\n",
            "20/20 [==============================] - 0s 3ms/step - loss: 0.4749 - accuracy: 0.7917 - val_loss: 0.4185 - val_accuracy: 0.8750\n",
            "Epoch 138/200\n",
            "20/20 [==============================] - 0s 3ms/step - loss: 0.4551 - accuracy: 0.8438 - val_loss: 0.4008 - val_accuracy: 0.8750\n",
            "Epoch 139/200\n",
            "20/20 [==============================] - 0s 4ms/step - loss: 0.4619 - accuracy: 0.8438 - val_loss: 0.4181 - val_accuracy: 0.8750\n",
            "Epoch 140/200\n",
            "20/20 [==============================] - 0s 4ms/step - loss: 0.4620 - accuracy: 0.8229 - val_loss: 0.4073 - val_accuracy: 0.8750\n",
            "Epoch 141/200\n",
            "20/20 [==============================] - 0s 3ms/step - loss: 0.5108 - accuracy: 0.7708 - val_loss: 0.4243 - val_accuracy: 0.8750\n",
            "Epoch 142/200\n",
            "20/20 [==============================] - 0s 3ms/step - loss: 0.4403 - accuracy: 0.8333 - val_loss: 0.3888 - val_accuracy: 0.9583\n",
            "Epoch 143/200\n",
            "20/20 [==============================] - 0s 3ms/step - loss: 0.4557 - accuracy: 0.8021 - val_loss: 0.3789 - val_accuracy: 0.9583\n",
            "Epoch 144/200\n",
            "20/20 [==============================] - 0s 3ms/step - loss: 0.4636 - accuracy: 0.7604 - val_loss: 0.4251 - val_accuracy: 0.8750\n",
            "Epoch 145/200\n",
            "20/20 [==============================] - 0s 3ms/step - loss: 0.4425 - accuracy: 0.8125 - val_loss: 0.3726 - val_accuracy: 0.9583\n",
            "Epoch 146/200\n",
            "20/20 [==============================] - 0s 3ms/step - loss: 0.4325 - accuracy: 0.8542 - val_loss: 0.3849 - val_accuracy: 0.9583\n",
            "Epoch 147/200\n",
            "20/20 [==============================] - 0s 3ms/step - loss: 0.4170 - accuracy: 0.8333 - val_loss: 0.4160 - val_accuracy: 0.8750\n",
            "Epoch 148/200\n",
            "20/20 [==============================] - 0s 4ms/step - loss: 0.4608 - accuracy: 0.8125 - val_loss: 0.4005 - val_accuracy: 0.8750\n",
            "Epoch 149/200\n",
            "20/20 [==============================] - 0s 3ms/step - loss: 0.4205 - accuracy: 0.8438 - val_loss: 0.3761 - val_accuracy: 0.9583\n",
            "Epoch 150/200\n",
            "20/20 [==============================] - 0s 3ms/step - loss: 0.5463 - accuracy: 0.7083 - val_loss: 0.3711 - val_accuracy: 0.9583\n",
            "Epoch 151/200\n",
            "20/20 [==============================] - 0s 3ms/step - loss: 0.4151 - accuracy: 0.8021 - val_loss: 0.4060 - val_accuracy: 0.8750\n",
            "Epoch 152/200\n",
            "20/20 [==============================] - 0s 3ms/step - loss: 0.4953 - accuracy: 0.7917 - val_loss: 0.3906 - val_accuracy: 0.9167\n",
            "Epoch 153/200\n",
            "20/20 [==============================] - 0s 3ms/step - loss: 0.4478 - accuracy: 0.8646 - val_loss: 0.3848 - val_accuracy: 0.9583\n",
            "Epoch 154/200\n",
            "20/20 [==============================] - 0s 4ms/step - loss: 0.4459 - accuracy: 0.7917 - val_loss: 0.3846 - val_accuracy: 0.9583\n",
            "Epoch 155/200\n",
            "20/20 [==============================] - 0s 3ms/step - loss: 0.4810 - accuracy: 0.8229 - val_loss: 0.3977 - val_accuracy: 0.8750\n",
            "Epoch 156/200\n",
            "20/20 [==============================] - 0s 3ms/step - loss: 0.4889 - accuracy: 0.8542 - val_loss: 0.3789 - val_accuracy: 0.9583\n",
            "Epoch 157/200\n",
            "20/20 [==============================] - 0s 3ms/step - loss: 0.4630 - accuracy: 0.8021 - val_loss: 0.3919 - val_accuracy: 0.8750\n",
            "Epoch 158/200\n",
            "20/20 [==============================] - 0s 3ms/step - loss: 0.3905 - accuracy: 0.8958 - val_loss: 0.3969 - val_accuracy: 0.8750\n",
            "Epoch 159/200\n",
            "20/20 [==============================] - 0s 3ms/step - loss: 0.4439 - accuracy: 0.7812 - val_loss: 0.3966 - val_accuracy: 0.8750\n",
            "Epoch 160/200\n",
            "20/20 [==============================] - 0s 4ms/step - loss: 0.4393 - accuracy: 0.8646 - val_loss: 0.3548 - val_accuracy: 1.0000\n",
            "Epoch 161/200\n",
            "20/20 [==============================] - 0s 3ms/step - loss: 0.4355 - accuracy: 0.8750 - val_loss: 0.3528 - val_accuracy: 1.0000\n",
            "Epoch 162/200\n",
            "20/20 [==============================] - 0s 3ms/step - loss: 0.4900 - accuracy: 0.8125 - val_loss: 0.3944 - val_accuracy: 0.8750\n",
            "Epoch 163/200\n",
            "20/20 [==============================] - 0s 3ms/step - loss: 0.4819 - accuracy: 0.7812 - val_loss: 0.3569 - val_accuracy: 0.9583\n",
            "Epoch 164/200\n",
            "20/20 [==============================] - 0s 3ms/step - loss: 0.4361 - accuracy: 0.8333 - val_loss: 0.3786 - val_accuracy: 0.9583\n",
            "Epoch 165/200\n",
            "20/20 [==============================] - 0s 3ms/step - loss: 0.4123 - accuracy: 0.8646 - val_loss: 0.3908 - val_accuracy: 0.8750\n",
            "Epoch 166/200\n",
            "20/20 [==============================] - 0s 3ms/step - loss: 0.4381 - accuracy: 0.8125 - val_loss: 0.3814 - val_accuracy: 0.9583\n",
            "Epoch 167/200\n",
            "20/20 [==============================] - 0s 3ms/step - loss: 0.4366 - accuracy: 0.8542 - val_loss: 0.3704 - val_accuracy: 0.9583\n",
            "Epoch 168/200\n",
            "20/20 [==============================] - 0s 3ms/step - loss: 0.4305 - accuracy: 0.8229 - val_loss: 0.3946 - val_accuracy: 0.8750\n",
            "Epoch 169/200\n",
            "20/20 [==============================] - 0s 3ms/step - loss: 0.4890 - accuracy: 0.7812 - val_loss: 0.3716 - val_accuracy: 0.9583\n",
            "Epoch 170/200\n",
            "20/20 [==============================] - 0s 3ms/step - loss: 0.4121 - accuracy: 0.8646 - val_loss: 0.3714 - val_accuracy: 0.9583\n",
            "Epoch 171/200\n",
            "20/20 [==============================] - 0s 3ms/step - loss: 0.4027 - accuracy: 0.8125 - val_loss: 0.3860 - val_accuracy: 0.8750\n",
            "Epoch 172/200\n",
            "20/20 [==============================] - 0s 3ms/step - loss: 0.4791 - accuracy: 0.7500 - val_loss: 0.4024 - val_accuracy: 0.8750\n",
            "Epoch 173/200\n",
            "20/20 [==============================] - 0s 4ms/step - loss: 0.4350 - accuracy: 0.8333 - val_loss: 0.3985 - val_accuracy: 0.8750\n",
            "Epoch 174/200\n",
            "20/20 [==============================] - 0s 3ms/step - loss: 0.4481 - accuracy: 0.7917 - val_loss: 0.3891 - val_accuracy: 0.8750\n",
            "Epoch 175/200\n",
            "20/20 [==============================] - 0s 4ms/step - loss: 0.3676 - accuracy: 0.8750 - val_loss: 0.3519 - val_accuracy: 0.9583\n",
            "Epoch 176/200\n",
            "20/20 [==============================] - 0s 4ms/step - loss: 0.4819 - accuracy: 0.7812 - val_loss: 0.3702 - val_accuracy: 0.9583\n",
            "Epoch 177/200\n",
            "20/20 [==============================] - 0s 4ms/step - loss: 0.3973 - accuracy: 0.8333 - val_loss: 0.3768 - val_accuracy: 0.9583\n",
            "Epoch 178/200\n",
            "20/20 [==============================] - 0s 3ms/step - loss: 0.4290 - accuracy: 0.8333 - val_loss: 0.3814 - val_accuracy: 0.9167\n",
            "Epoch 179/200\n",
            "20/20 [==============================] - 0s 4ms/step - loss: 0.4146 - accuracy: 0.8229 - val_loss: 0.3741 - val_accuracy: 0.9583\n",
            "Epoch 180/200\n",
            "20/20 [==============================] - 0s 4ms/step - loss: 0.4030 - accuracy: 0.8750 - val_loss: 0.3571 - val_accuracy: 0.9583\n",
            "Epoch 181/200\n",
            "20/20 [==============================] - 0s 3ms/step - loss: 0.4033 - accuracy: 0.8333 - val_loss: 0.3811 - val_accuracy: 0.9167\n",
            "Epoch 182/200\n",
            "20/20 [==============================] - 0s 3ms/step - loss: 0.3929 - accuracy: 0.8333 - val_loss: 0.3818 - val_accuracy: 0.9167\n",
            "Epoch 183/200\n",
            "20/20 [==============================] - 0s 4ms/step - loss: 0.4718 - accuracy: 0.8229 - val_loss: 0.3574 - val_accuracy: 0.9583\n",
            "Epoch 184/200\n",
            "20/20 [==============================] - 0s 3ms/step - loss: 0.5351 - accuracy: 0.7604 - val_loss: 0.3481 - val_accuracy: 1.0000\n",
            "Epoch 185/200\n",
            "20/20 [==============================] - 0s 4ms/step - loss: 0.4052 - accuracy: 0.8542 - val_loss: 0.3703 - val_accuracy: 0.9583\n",
            "Epoch 186/200\n",
            "20/20 [==============================] - 0s 3ms/step - loss: 0.3498 - accuracy: 0.8646 - val_loss: 0.3812 - val_accuracy: 0.9167\n",
            "Epoch 187/200\n",
            "20/20 [==============================] - 0s 3ms/step - loss: 0.4188 - accuracy: 0.8438 - val_loss: 0.4005 - val_accuracy: 0.8750\n",
            "Epoch 188/200\n",
            "20/20 [==============================] - 0s 3ms/step - loss: 0.4747 - accuracy: 0.7604 - val_loss: 0.3902 - val_accuracy: 0.8750\n",
            "Epoch 189/200\n",
            "20/20 [==============================] - 0s 3ms/step - loss: 0.4804 - accuracy: 0.8125 - val_loss: 0.3894 - val_accuracy: 0.8750\n",
            "Epoch 190/200\n",
            "20/20 [==============================] - 0s 3ms/step - loss: 0.4276 - accuracy: 0.8438 - val_loss: 0.3933 - val_accuracy: 0.8750\n",
            "Epoch 191/200\n",
            "20/20 [==============================] - 0s 4ms/step - loss: 0.4029 - accuracy: 0.8646 - val_loss: 0.3834 - val_accuracy: 0.8750\n",
            "Epoch 192/200\n",
            "20/20 [==============================] - 0s 4ms/step - loss: 0.5051 - accuracy: 0.7812 - val_loss: 0.3757 - val_accuracy: 0.9167\n",
            "Epoch 193/200\n",
            "20/20 [==============================] - 0s 3ms/step - loss: 0.4405 - accuracy: 0.8438 - val_loss: 0.3686 - val_accuracy: 0.9583\n",
            "Epoch 194/200\n",
            "20/20 [==============================] - 0s 3ms/step - loss: 0.3845 - accuracy: 0.8333 - val_loss: 0.3673 - val_accuracy: 0.9583\n",
            "Epoch 195/200\n",
            "20/20 [==============================] - 0s 3ms/step - loss: 0.4666 - accuracy: 0.7812 - val_loss: 0.3608 - val_accuracy: 0.9583\n",
            "Epoch 196/200\n",
            "20/20 [==============================] - 0s 3ms/step - loss: 0.3953 - accuracy: 0.8542 - val_loss: 0.3383 - val_accuracy: 1.0000\n",
            "Epoch 197/200\n",
            "20/20 [==============================] - 0s 3ms/step - loss: 0.4417 - accuracy: 0.8021 - val_loss: 0.3601 - val_accuracy: 0.9583\n",
            "Epoch 198/200\n",
            "20/20 [==============================] - 0s 4ms/step - loss: 0.4336 - accuracy: 0.8125 - val_loss: 0.3501 - val_accuracy: 0.9583\n",
            "Epoch 199/200\n",
            "20/20 [==============================] - 0s 3ms/step - loss: 0.4794 - accuracy: 0.8021 - val_loss: 0.3491 - val_accuracy: 0.9583\n",
            "Epoch 200/200\n",
            "20/20 [==============================] - 0s 3ms/step - loss: 0.4740 - accuracy: 0.8021 - val_loss: 0.3681 - val_accuracy: 0.9583\n"
          ],
          "name": "stdout"
        },
        {
          "output_type": "execute_result",
          "data": {
            "text/plain": [
              "<keras.callbacks.History at 0x7f3eab899310>"
            ]
          },
          "metadata": {
            "tags": []
          },
          "execution_count": 18
        }
      ]
    },
    {
      "cell_type": "markdown",
      "metadata": {
        "id": "ilTziM9UERuM"
      },
      "source": [
        "# <div style=\"direction:rtl;text-align:right;font-family:B Lotus, B Nazanin, Tahoma\">سوال 4:</div>\n",
        "<div style=\"direction:rtl;text-align:right;font-family:Tahoma\">\n",
        "مدل را روی داده های test ارزیابی کنید.\n",
        "<br>\n",
        "<b>راهنمایی: </b>\n",
        "از تابع model.evaluate استفاده کنید.\n",
        "</div>"
      ]
    },
    {
      "cell_type": "code",
      "metadata": {
        "id": "T-ASdbBbERuM",
        "outputId": "44f7a957-fefb-492c-cb51-ad4dea776c63"
      },
      "source": [
        "# Test on unseen data\n",
        "results = model.evaluate(test_x, test_y)\n",
        "\n",
        "print('Final test set loss: {:4f}'.format(results[0]))\n",
        "print('Final test set accuracy: {:4f}'.format(results[1]))"
      ],
      "execution_count": null,
      "outputs": [
        {
          "output_type": "stream",
          "text": [
            "30/30 [==============================] - 0s 2ms/step\n",
            "Final test set loss: 0.155448\n",
            "Final test set accuracy: 1.000000\n"
          ],
          "name": "stdout"
        }
      ]
    },
    {
      "cell_type": "markdown",
      "metadata": {
        "id": "IVM-fakiERuN"
      },
      "source": [
        "<div class=\"alert alert-block alert-info\">\n",
        "<div style=\"direction:rtl;text-align:right;font-family:B Lotus, B Nazanin, Tahoma\"> دوره مقدماتی یادگیری عمیق<br>علیرضا اخوان پور<br>پنج شنبه، ۱۸ و ۲۵ بهمن ۱۳۹۷<br>\n",
        "</div>\n",
        "<a href=\"http://class.vision\">Class.Vision</a> - <a href=\"http://AkhavanPour.ir\">AkhavanPour.ir</a> - <a href=\"https://github.com/Alireza-Akhavan/\">GitHub</a>\n",
        "\n",
        "</div>"
      ]
    }
  ]
}