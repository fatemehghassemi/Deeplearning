{
  "nbformat": 4,
  "nbformat_minor": 0,
  "metadata": {
    "colab": {
      "name": "ex1-2-fashion_mnist.ipynb",
      "provenance": [],
      "collapsed_sections": [],
      "authorship_tag": "ABX9TyNcOFa+vbEt/snAjDXJ2Tro",
      "include_colab_link": true
    },
    "kernelspec": {
      "name": "python3",
      "display_name": "Python 3"
    },
    "language_info": {
      "name": "python"
    },
    "accelerator": "GPU"
  },
  "cells": [
    {
      "cell_type": "markdown",
      "metadata": {
        "id": "view-in-github",
        "colab_type": "text"
      },
      "source": [
        "<a href=\"https://colab.research.google.com/github/fatemehghassemi/Deeplearning/blob/main/ex1_2_fashion_mnist.ipynb\" target=\"_parent\"><img src=\"https://colab.research.google.com/assets/colab-badge.svg\" alt=\"Open In Colab\"/></a>"
      ]
    },
    {
      "cell_type": "code",
      "metadata": {
        "id": "lc19fD-6RDXD"
      },
      "source": [
        "\n",
        "from tensorflow import keras\n",
        "import tensorflow as tf\n",
        "\n",
        "import numpy as np\n",
        "import matplotlib.pyplot as plt\n",
        "\n",
        "from keras.models import Sequential\n",
        "from keras.layers import Dense,  Activation\n",
        "\n"
      ],
      "execution_count": 1,
      "outputs": []
    },
    {
      "cell_type": "code",
      "metadata": {
        "id": "CbCP_In1Bklm"
      },
      "source": [
        "fashion_mnist = tf.keras.datasets.fashion_mnist\n",
        "\n",
        "(train_images, train_labels), (test_images, test_labels) = fashion_mnist.load_data()"
      ],
      "execution_count": 2,
      "outputs": []
    },
    {
      "cell_type": "code",
      "metadata": {
        "colab": {
          "base_uri": "https://localhost:8080/"
        },
        "id": "Ydi-xJxZ-266",
        "outputId": "c75c0fb5-68d3-4c53-c5d6-c906aa3e16d4"
      },
      "source": [
        "len(np.unique(train_labels))"
      ],
      "execution_count": 3,
      "outputs": [
        {
          "output_type": "execute_result",
          "data": {
            "text/plain": [
              "10"
            ]
          },
          "metadata": {
            "tags": []
          },
          "execution_count": 3
        }
      ]
    },
    {
      "cell_type": "code",
      "metadata": {
        "colab": {
          "base_uri": "https://localhost:8080/"
        },
        "id": "NVNyl60lB44x",
        "outputId": "c783a73d-a194-42e9-f885-38f88fa4dc95"
      },
      "source": [
        "train_images.shape"
      ],
      "execution_count": 4,
      "outputs": [
        {
          "output_type": "execute_result",
          "data": {
            "text/plain": [
              "(60000, 28, 28)"
            ]
          },
          "metadata": {
            "tags": []
          },
          "execution_count": 4
        }
      ]
    },
    {
      "cell_type": "code",
      "metadata": {
        "colab": {
          "base_uri": "https://localhost:8080/"
        },
        "id": "bKkfGfFJDLIZ",
        "outputId": "de6b1873-0b79-4eaa-c36b-d8d5f3246ea5"
      },
      "source": [
        "len(train_labels)"
      ],
      "execution_count": 5,
      "outputs": [
        {
          "output_type": "execute_result",
          "data": {
            "text/plain": [
              "60000"
            ]
          },
          "metadata": {
            "tags": []
          },
          "execution_count": 5
        }
      ]
    },
    {
      "cell_type": "code",
      "metadata": {
        "colab": {
          "base_uri": "https://localhost:8080/"
        },
        "id": "fhutAqTnDN6L",
        "outputId": "6873f1cb-2226-4d79-cefc-19af283e472a"
      },
      "source": [
        "train_labels"
      ],
      "execution_count": 6,
      "outputs": [
        {
          "output_type": "execute_result",
          "data": {
            "text/plain": [
              "array([9, 0, 0, ..., 3, 0, 5], dtype=uint8)"
            ]
          },
          "metadata": {
            "tags": []
          },
          "execution_count": 6
        }
      ]
    },
    {
      "cell_type": "code",
      "metadata": {
        "colab": {
          "base_uri": "https://localhost:8080/"
        },
        "id": "camgRy9SDScO",
        "outputId": "4a0f9fa7-52a5-47a3-f608-12c09de1f316"
      },
      "source": [
        "test_images.shape"
      ],
      "execution_count": 7,
      "outputs": [
        {
          "output_type": "execute_result",
          "data": {
            "text/plain": [
              "(10000, 28, 28)"
            ]
          },
          "metadata": {
            "tags": []
          },
          "execution_count": 7
        }
      ]
    },
    {
      "cell_type": "code",
      "metadata": {
        "colab": {
          "base_uri": "https://localhost:8080/"
        },
        "id": "GFOA1XucDU1z",
        "outputId": "7abe59ba-a52b-44bd-879d-9d9036d72e9f"
      },
      "source": [
        "len(test_labels)"
      ],
      "execution_count": 8,
      "outputs": [
        {
          "output_type": "execute_result",
          "data": {
            "text/plain": [
              "10000"
            ]
          },
          "metadata": {
            "tags": []
          },
          "execution_count": 8
        }
      ]
    },
    {
      "cell_type": "code",
      "metadata": {
        "colab": {
          "base_uri": "https://localhost:8080/",
          "height": 265
        },
        "id": "ofAghCnsDg7R",
        "outputId": "698f5374-3d97-4f9b-c927-4f86d7be423d"
      },
      "source": [
        "plt.figure()\n",
        "plt.imshow(train_images[10])\n",
        "plt.colorbar()\n",
        "plt.grid(False)\n",
        "plt.show()"
      ],
      "execution_count": 9,
      "outputs": [
        {
          "output_type": "display_data",
          "data": {
            "image/png": "[encoded data removed]",
            "text/plain": [
              "<Figure size 432x288 with 2 Axes>"
            ]
          },
          "metadata": {
            "tags": [],
            "needs_background": "light"
          }
        }
      ]
    },
    {
      "cell_type": "code",
      "metadata": {
        "colab": {
          "base_uri": "https://localhost:8080/",
          "height": 469
        },
        "id": "NLSlZTvoD6cg",
        "outputId": "1459e709-b36d-4620-9fca-ba0e7db322d3"
      },
      "source": [
        "plt.figure(figsize=(8,8))\n",
        "for i in range(16):\n",
        "    plt.subplot(4,4,i+1)\n",
        "    plt.xticks([])\n",
        "    plt.yticks([])\n",
        "    plt.grid(False)\n",
        "    plt.imshow(train_images[i], cmap=plt.cm.binary)\n",
        "plt.show()"
      ],
      "execution_count": 10,
      "outputs": [
        {
          "output_type": "display_data",
          "data": {
            "image/png": "[encoded data removed]",
            "text/plain": [
              "<Figure size 576x576 with 16 Axes>"
            ]
          },
          "metadata": {
            "tags": []
          }
        }
      ]
    },
    {
      "cell_type": "code",
      "metadata": {
        "id": "MuCls-1tE44o"
      },
      "source": [
        "x_train = np.array(train_images)\n",
        "x_test = np.array(test_images)\n"
      ],
      "execution_count": 11,
      "outputs": []
    },
    {
      "cell_type": "code",
      "metadata": {
        "id": "NlCo0j1JFHb_"
      },
      "source": [
        "x_train = x_train.astype('float32')\n",
        "x_test = x_test.astype('float32')\n",
        "x_train /= 255\n",
        "x_test /= 255"
      ],
      "execution_count": 12,
      "outputs": []
    },
    {
      "cell_type": "code",
      "metadata": {
        "id": "V8RLYuksJ84Y"
      },
      "source": [
        "y_train = keras.utils.to_categorical(train_labels, num_classes=10)\n",
        "y_test = keras.utils.to_categorical(test_labels, num_classes=10)"
      ],
      "execution_count": 13,
      "outputs": []
    },
    {
      "cell_type": "code",
      "metadata": {
        "id": "RGx5NUn-NAy3"
      },
      "source": [
        "model = tf.keras.Sequential([\n",
        "    tf.keras.layers.Flatten(input_shape=(28, 28)),\n",
        "    tf.keras.layers.Dense(128, activation='relu'),\n",
        "    tf.keras.layers.Dense(10)\n",
        "])"
      ],
      "execution_count": 14,
      "outputs": []
    },
    {
      "cell_type": "code",
      "metadata": {
        "colab": {
          "base_uri": "https://localhost:8080/"
        },
        "id": "H8CM35h5NS6a",
        "outputId": "d5cb1670-8c62-44fe-e61c-f68bdd183c4c"
      },
      "source": [
        "model.summary()"
      ],
      "execution_count": 15,
      "outputs": [
        {
          "output_type": "stream",
          "text": [
            "Model: \"sequential\"\n",
            "_________________________________________________________________\n",
            "Layer (type)                 Output Shape              Param #   \n",
            "=================================================================\n",
            "flatten (Flatten)            (None, 784)               0         \n",
            "_________________________________________________________________\n",
            "dense (Dense)                (None, 128)               100480    \n",
            "_________________________________________________________________\n",
            "dense_1 (Dense)              (None, 10)                1290      \n",
            "=================================================================\n",
            "Total params: 101,770\n",
            "Trainable params: 101,770\n",
            "Non-trainable params: 0\n",
            "_________________________________________________________________\n"
          ],
          "name": "stdout"
        }
      ]
    },
    {
      "cell_type": "code",
      "metadata": {
        "id": "LrX4y1ygNejQ"
      },
      "source": [
        "model.compile(loss='categorical_crossentropy',\n",
        "              optimizer='adam',\n",
        "              metrics=['accuracy'])"
      ],
      "execution_count": 16,
      "outputs": []
    },
    {
      "cell_type": "code",
      "metadata": {
        "colab": {
          "base_uri": "https://localhost:8080/"
        },
        "id": "ft5HlCQINzPg",
        "outputId": "2281fd91-f296-4c11-e6b4-bc90e4de1866"
      },
      "source": [
        "model.fit(x_train, y_train,\n",
        "          epochs=10,\n",
        "          batch_size=64, validation_split=0.2)"
      ],
      "execution_count": 17,
      "outputs": [
        {
          "output_type": "stream",
          "text": [
            "Epoch 1/10\n",
            "750/750 [==============================] - 3s 3ms/step - loss: 10.3655 - accuracy: 0.2040 - val_loss: 10.4539 - val_accuracy: 0.2155\n",
            "Epoch 2/10\n",
            "750/750 [==============================] - 2s 3ms/step - loss: 10.5312 - accuracy: 0.2157 - val_loss: 10.4929 - val_accuracy: 0.2128\n",
            "Epoch 3/10\n",
            "750/750 [==============================] - 2s 3ms/step - loss: 10.5819 - accuracy: 0.2145 - val_loss: 10.4929 - val_accuracy: 0.2128\n",
            "Epoch 4/10\n",
            "750/750 [==============================] - 2s 3ms/step - loss: 10.5819 - accuracy: 0.2145 - val_loss: 10.4929 - val_accuracy: 0.2128\n",
            "Epoch 5/10\n",
            "750/750 [==============================] - 2s 3ms/step - loss: 10.5819 - accuracy: 0.2145 - val_loss: 10.4929 - val_accuracy: 0.2128\n",
            "Epoch 6/10\n",
            "750/750 [==============================] - 2s 3ms/step - loss: 10.5819 - accuracy: 0.2145 - val_loss: 10.4929 - val_accuracy: 0.2128\n",
            "Epoch 7/10\n",
            "750/750 [==============================] - 2s 3ms/step - loss: 10.5819 - accuracy: 0.2145 - val_loss: 10.4929 - val_accuracy: 0.2128\n",
            "Epoch 8/10\n",
            "750/750 [==============================] - 2s 3ms/step - loss: 10.5819 - accuracy: 0.2145 - val_loss: 10.4929 - val_accuracy: 0.2128\n",
            "Epoch 9/10\n",
            "750/750 [==============================] - 2s 3ms/step - loss: 10.5819 - accuracy: 0.2145 - val_loss: 10.4929 - val_accuracy: 0.2128\n",
            "Epoch 10/10\n",
            "750/750 [==============================] - 2s 3ms/step - loss: 10.5819 - accuracy: 0.2145 - val_loss: 10.4929 - val_accuracy: 0.2128\n"
          ],
          "name": "stdout"
        },
        {
          "output_type": "execute_result",
          "data": {
            "text/plain": [
              "<tensorflow.python.keras.callbacks.History at 0x7f007e1475d0>"
            ]
          },
          "metadata": {
            "tags": []
          },
          "execution_count": 17
        }
      ]
    },
    {
      "cell_type": "code",
      "metadata": {
        "colab": {
          "base_uri": "https://localhost:8080/"
        },
        "id": "QsrhDMY_Rk1h",
        "outputId": "0cd1a057-a837-442b-9d8f-49503413da32"
      },
      "source": [
        "loss, acc = model.evaluate(x_test, y_test)\n",
        "print('\\nTesting loss: %.2f, acc: %.2f%%'%(loss, acc))"
      ],
      "execution_count": 18,
      "outputs": [
        {
          "output_type": "stream",
          "text": [
            "313/313 [==============================] - 1s 2ms/step - loss: 10.5848 - accuracy: 0.2091\n",
            "\n",
            "Testing loss: 10.58, acc: 0.21%\n"
          ],
          "name": "stdout"
        }
      ]
    },
    {
      "cell_type": "code",
      "metadata": {
        "id": "fs3p25qobRqg"
      },
      "source": [
        "from tensorflow.keras.datasets.fashion_mnist import load_data"
      ],
      "execution_count": 19,
      "outputs": []
    },
    {
      "cell_type": "code",
      "metadata": {
        "id": "eI0BXXpCbdxp"
      },
      "source": [
        "(x_train, y_train), (x_test, y_test) = load_data()"
      ],
      "execution_count": 20,
      "outputs": []
    },
    {
      "cell_type": "code",
      "metadata": {
        "id": "AJNo3T71Wm2m"
      },
      "source": [
        "# randomly sort X_test/y_test\n",
        "indexes = np.arange(x_test.shape[0])\n",
        "for _ in range(5):\n",
        "  indexes = np.random.permutation(indexes)  # shuffle 5 times!\n",
        "x_test = x_test[indexes]\n",
        "y_test = y_test[indexes]"
      ],
      "execution_count": 21,
      "outputs": []
    },
    {
      "cell_type": "code",
      "metadata": {
        "id": "2GZs9h3TWnxj"
      },
      "source": [
        "  x_val = x_test[:8000]\n",
        "  y_val = y_test[:8000]\n",
        "  x_test = x_test[8000:]\n",
        "  y_test = y_test[8000:]"
      ],
      "execution_count": 22,
      "outputs": []
    },
    {
      "cell_type": "code",
      "metadata": {
        "id": "qpHpWFtgaimA"
      },
      "source": [
        "test_images, test_labels = x_test.copy(), y_test.copy()"
      ],
      "execution_count": 23,
      "outputs": []
    },
    {
      "cell_type": "code",
      "metadata": {
        "id": "0_c-OD5yaql_"
      },
      "source": [
        "x_train = x_train.astype('float32') / 255.0\n",
        "x_val = x_val.astype('float32') / 255.0\n",
        "x_test = x_test.astype('float32') / 255.0"
      ],
      "execution_count": 24,
      "outputs": []
    },
    {
      "cell_type": "code",
      "metadata": {
        "id": "k0U-IZ3Ka4nC"
      },
      "source": [
        "x_train = np.reshape(x_train, (x_train.shape[0], x_train.shape[1], x_train.shape[2], 1))\n",
        "x_val = np.reshape(x_val, (x_val.shape[0], x_val.shape[1], x_val.shape[2], 1))\n",
        "x_test = np.reshape(x_test, (x_test.shape[0], x_test.shape[1], x_test.shape[2], 1))"
      ],
      "execution_count": 25,
      "outputs": []
    },
    {
      "cell_type": "code",
      "metadata": {
        "id": "lVwl4BbWS_pU"
      },
      "source": [
        "import tensorflow.keras.backend as K\n",
        "from tensorflow.keras.layers import (Input, Conv2D, MaxPooling2D, Flatten, \n",
        "                                     Dense, Dropout, BatchNormalization)\n",
        "from tensorflow.keras.models import Sequential\n",
        "from tensorflow.keras.optimizers import Adam\n",
        "from tensorflow.keras import regularizers\n",
        "# these are my helper functions for Keras\n",
        "\n",
        "from keras import layers"
      ],
      "execution_count": 27,
      "outputs": []
    },
    {
      "cell_type": "code",
      "metadata": {
        "id": "1IEHMkxPn_YN"
      },
      "source": [
        " model = Sequential([\n",
        "        Conv2D(64, kernel_size=(3, 3), activation='relu', padding='same', \n",
        "               input_shape=(28,28,1)),\n",
        "        BatchNormalization(),\n",
        "        Conv2D(64, kernel_size=(3, 3), activation='relu'),\n",
        "        BatchNormalization(),\n",
        "        MaxPooling2D(pool_size=(2, 2)),\n",
        "\n",
        "        Conv2D(128, kernel_size=(3, 3), activation='relu', padding='same'),\n",
        "        BatchNormalization(),\n",
        "        Conv2D(128, kernel_size=(3, 3), activation='relu'),\n",
        "        BatchNormalization(),        \n",
        "        MaxPooling2D(pool_size=(2, 2)),\n",
        "        \n",
        "        Conv2D(256, kernel_size=(3, 3), activation='relu', padding='same'),\n",
        "        BatchNormalization(),\n",
        "        Conv2D(256, kernel_size=(3, 3), activation='relu'),\n",
        "        BatchNormalization(),    \n",
        "        MaxPooling2D(pool_size=(2, 2)),   \n",
        "        \n",
        "        Flatten(),\n",
        "        \n",
        "        Dense(1024, activation='relu'),\n",
        "        \n",
        "        Dense(512, activation='relu'),\n",
        "        \n",
        "        Dense(10, activation='softmax')\n",
        "    ])"
      ],
      "execution_count": 30,
      "outputs": []
    },
    {
      "cell_type": "code",
      "metadata": {
        "colab": {
          "base_uri": "https://localhost:8080/"
        },
        "id": "jSY3rV4v0tE9",
        "outputId": "2a8da54c-b1dc-4f0a-a68c-6ac45ed359df"
      },
      "source": [
        "model.summary()"
      ],
      "execution_count": 31,
      "outputs": [
        {
          "output_type": "stream",
          "text": [
            "Model: \"sequential_1\"\n",
            "_________________________________________________________________\n",
            "Layer (type)                 Output Shape              Param #   \n",
            "=================================================================\n",
            "conv2d_6 (Conv2D)            (None, 28, 28, 64)        640       \n",
            "_________________________________________________________________\n",
            "batch_normalization_6 (Batch (None, 28, 28, 64)        256       \n",
            "_________________________________________________________________\n",
            "conv2d_7 (Conv2D)            (None, 26, 26, 64)        36928     \n",
            "_________________________________________________________________\n",
            "batch_normalization_7 (Batch (None, 26, 26, 64)        256       \n",
            "_________________________________________________________________\n",
            "max_pooling2d_3 (MaxPooling2 (None, 13, 13, 64)        0         \n",
            "_________________________________________________________________\n",
            "conv2d_8 (Conv2D)            (None, 13, 13, 128)       73856     \n",
            "_________________________________________________________________\n",
            "batch_normalization_8 (Batch (None, 13, 13, 128)       512       \n",
            "_________________________________________________________________\n",
            "conv2d_9 (Conv2D)            (None, 11, 11, 128)       147584    \n",
            "_________________________________________________________________\n",
            "batch_normalization_9 (Batch (None, 11, 11, 128)       512       \n",
            "_________________________________________________________________\n",
            "max_pooling2d_4 (MaxPooling2 (None, 5, 5, 128)         0         \n",
            "_________________________________________________________________\n",
            "conv2d_10 (Conv2D)           (None, 5, 5, 256)         295168    \n",
            "_________________________________________________________________\n",
            "batch_normalization_10 (Batc (None, 5, 5, 256)         1024      \n",
            "_________________________________________________________________\n",
            "conv2d_11 (Conv2D)           (None, 3, 3, 256)         590080    \n",
            "_________________________________________________________________\n",
            "batch_normalization_11 (Batc (None, 3, 3, 256)         1024      \n",
            "_________________________________________________________________\n",
            "max_pooling2d_5 (MaxPooling2 (None, 1, 1, 256)         0         \n",
            "_________________________________________________________________\n",
            "flatten_2 (Flatten)          (None, 256)               0         \n",
            "_________________________________________________________________\n",
            "dense_4 (Dense)              (None, 1024)              263168    \n",
            "_________________________________________________________________\n",
            "dense_5 (Dense)              (None, 512)               524800    \n",
            "_________________________________________________________________\n",
            "dense_6 (Dense)              (None, 10)                5130      \n",
            "=================================================================\n",
            "Total params: 1,940,938\n",
            "Trainable params: 1,939,146\n",
            "Non-trainable params: 1,792\n",
            "_________________________________________________________________\n"
          ],
          "name": "stdout"
        }
      ]
    },
    {
      "cell_type": "code",
      "metadata": {
        "colab": {
          "base_uri": "https://localhost:8080/"
        },
        "id": "rh8gaLmL0tJp",
        "outputId": "f6c0f586-88f9-44f3-82c1-803e9beae273"
      },
      "source": [
        "model.compile(loss='sparse_categorical_crossentropy',\n",
        "              optimizer=Adam(lr=0.0001, decay=1e-6),\n",
        "              metrics=['accuracy'])\n"
      ],
      "execution_count": 32,
      "outputs": [
        {
          "output_type": "stream",
          "text": [
            "/usr/local/lib/python3.7/dist-packages/tensorflow/python/keras/optimizer_v2/optimizer_v2.py:375: UserWarning: The `lr` argument is deprecated, use `learning_rate` instead.\n",
            "  \"The `lr` argument is deprecated, use `learning_rate` instead.\")\n"
          ],
          "name": "stderr"
        }
      ]
    },
    {
      "cell_type": "code",
      "metadata": {
        "colab": {
          "base_uri": "https://localhost:8080/"
        },
        "id": "AsAA5U7X1MEZ",
        "outputId": "98d00680-a2de-4775-d545-e45231ebfd26"
      },
      "source": [
        "\n",
        "history = model.fit(x_train, y_train,  verbose=1,\n",
        "          epochs=25, batch_size=32, validation_data =(x_val, y_val))"
      ],
      "execution_count": 33,
      "outputs": [
        {
          "output_type": "stream",
          "text": [
            "Epoch 1/25\n",
            "1875/1875 [==============================] - 42s 21ms/step - loss: 0.3934 - accuracy: 0.8581 - val_loss: 0.3307 - val_accuracy: 0.8756\n",
            "Epoch 2/25\n",
            "1875/1875 [==============================] - 40s 21ms/step - loss: 0.2459 - accuracy: 0.9103 - val_loss: 0.2882 - val_accuracy: 0.8938\n",
            "Epoch 3/25\n",
            "1875/1875 [==============================] - 40s 21ms/step - loss: 0.1917 - accuracy: 0.9295 - val_loss: 0.2634 - val_accuracy: 0.9020\n",
            "Epoch 4/25\n",
            "1875/1875 [==============================] - 40s 21ms/step - loss: 0.1542 - accuracy: 0.9423 - val_loss: 0.2861 - val_accuracy: 0.9031\n",
            "Epoch 5/25\n",
            "1875/1875 [==============================] - 41s 22ms/step - loss: 0.1196 - accuracy: 0.9566 - val_loss: 0.2562 - val_accuracy: 0.9169\n",
            "Epoch 6/25\n",
            "1875/1875 [==============================] - 40s 21ms/step - loss: 0.0963 - accuracy: 0.9643 - val_loss: 0.3000 - val_accuracy: 0.9111\n",
            "Epoch 7/25\n",
            "1875/1875 [==============================] - 40s 21ms/step - loss: 0.0767 - accuracy: 0.9711 - val_loss: 0.2818 - val_accuracy: 0.9185\n",
            "Epoch 8/25\n",
            "1875/1875 [==============================] - 40s 21ms/step - loss: 0.0618 - accuracy: 0.9768 - val_loss: 0.3233 - val_accuracy: 0.9186\n",
            "Epoch 9/25\n",
            "1875/1875 [==============================] - 40s 21ms/step - loss: 0.0559 - accuracy: 0.9789 - val_loss: 0.3048 - val_accuracy: 0.9159\n",
            "Epoch 10/25\n",
            "1875/1875 [==============================] - 40s 21ms/step - loss: 0.0440 - accuracy: 0.9840 - val_loss: 0.3158 - val_accuracy: 0.9231\n",
            "Epoch 11/25\n",
            "1875/1875 [==============================] - 40s 21ms/step - loss: 0.0412 - accuracy: 0.9853 - val_loss: 0.3691 - val_accuracy: 0.9201\n",
            "Epoch 12/25\n",
            "1875/1875 [==============================] - 41s 22ms/step - loss: 0.0351 - accuracy: 0.9872 - val_loss: 0.3769 - val_accuracy: 0.9168\n",
            "Epoch 13/25\n",
            "1875/1875 [==============================] - 40s 22ms/step - loss: 0.0321 - accuracy: 0.9887 - val_loss: 0.4310 - val_accuracy: 0.9137\n",
            "Epoch 14/25\n",
            "1875/1875 [==============================] - 40s 21ms/step - loss: 0.0296 - accuracy: 0.9891 - val_loss: 0.3813 - val_accuracy: 0.9229\n",
            "Epoch 15/25\n",
            "1875/1875 [==============================] - 40s 21ms/step - loss: 0.0269 - accuracy: 0.9905 - val_loss: 0.4359 - val_accuracy: 0.9125\n",
            "Epoch 16/25\n",
            "1875/1875 [==============================] - 40s 21ms/step - loss: 0.0265 - accuracy: 0.9906 - val_loss: 0.3967 - val_accuracy: 0.9197\n",
            "Epoch 17/25\n",
            "1875/1875 [==============================] - 40s 21ms/step - loss: 0.0238 - accuracy: 0.9919 - val_loss: 0.3981 - val_accuracy: 0.9162\n",
            "Epoch 18/25\n",
            "1875/1875 [==============================] - 40s 21ms/step - loss: 0.0230 - accuracy: 0.9919 - val_loss: 0.4101 - val_accuracy: 0.9218\n",
            "Epoch 19/25\n",
            "1875/1875 [==============================] - 40s 21ms/step - loss: 0.0220 - accuracy: 0.9924 - val_loss: 0.3955 - val_accuracy: 0.9264\n",
            "Epoch 20/25\n",
            "1875/1875 [==============================] - 41s 22ms/step - loss: 0.0183 - accuracy: 0.9935 - val_loss: 0.4381 - val_accuracy: 0.9189\n",
            "Epoch 21/25\n",
            "1875/1875 [==============================] - 40s 21ms/step - loss: 0.0204 - accuracy: 0.9926 - val_loss: 0.4137 - val_accuracy: 0.9254\n",
            "Epoch 22/25\n",
            "1875/1875 [==============================] - 40s 21ms/step - loss: 0.0179 - accuracy: 0.9937 - val_loss: 0.4167 - val_accuracy: 0.9230\n",
            "Epoch 23/25\n",
            "1875/1875 [==============================] - 40s 21ms/step - loss: 0.0174 - accuracy: 0.9938 - val_loss: 0.4483 - val_accuracy: 0.9196\n",
            "Epoch 24/25\n",
            "1875/1875 [==============================] - 40s 21ms/step - loss: 0.0168 - accuracy: 0.9944 - val_loss: 0.4412 - val_accuracy: 0.9222\n",
            "Epoch 25/25\n",
            "1875/1875 [==============================] - 40s 21ms/step - loss: 0.0165 - accuracy: 0.9944 - val_loss: 0.4488 - val_accuracy: 0.9153\n"
          ],
          "name": "stdout"
        }
      ]
    }
  ]
}